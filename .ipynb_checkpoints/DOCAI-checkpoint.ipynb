{
 "cells": [
  {
   "cell_type": "markdown",
   "id": "f1d713b3-579f-4ee2-93fd-541caf94e75c",
   "metadata": {
    "tags": []
   },
   "source": [
    "#### This Notebook use Doc AI and converts all PDF document to text so that down the line process can work\n",
    "\n",
    "#### Author: Saurabh Mangal (saurabhmangal@google.com)\n",
    "#### Editor / Reviewer: Wan Qi, Jing Le\n",
    "##### Date: 21st Feb\n",
    "##### Description: This notebook contains part 1 of lab\n",
    "\n",
    " Copyright (c) [2024] [saurabhmangal@] -- \n",
    " This notebook is licensed under the Commercial License."
   ]
  },
  {
   "cell_type": "code",
   "execution_count": 1,
   "id": "a227be32-5f66-4d35-958a-3bed4436023c",
   "metadata": {
    "tags": []
   },
   "outputs": [
    {
     "name": "stdout",
     "output_type": "stream",
     "text": [
      "\u001b[33mWARNING: Error parsing requirements for google-cloud-aiplatform: [Errno 2] No such file or directory: '/opt/conda/lib/python3.10/site-packages/google_cloud_aiplatform-1.42.1.dist-info/METADATA'\u001b[0m\u001b[33m\n",
      "\u001b[0m\u001b[33mWARNING: Error parsing requirements for nest-asyncio: [Errno 2] No such file or directory: '/opt/conda/lib/python3.10/site-packages/nest_asyncio-1.5.8.dist-info/METADATA'\u001b[0m\u001b[33m\n",
      "\u001b[0m\u001b[33mWARNING: Error parsing requirements for python-dateutil: [Errno 2] No such file or directory: '/opt/conda/lib/python3.10/site-packages/python_dateutil-2.8.2.dist-info/METADATA'\u001b[0m\u001b[33m\n",
      "\u001b[0m\u001b[33mWARNING: Error parsing requirements for google-cloud-aiplatform: [Errno 2] No such file or directory: '/opt/conda/lib/python3.10/site-packages/google_cloud_aiplatform-1.42.1.dist-info/METADATA'\u001b[0m\u001b[33m\n",
      "\u001b[0m\u001b[33mWARNING: Error parsing requirements for nest-asyncio: [Errno 2] No such file or directory: '/opt/conda/lib/python3.10/site-packages/nest_asyncio-1.5.8.dist-info/METADATA'\u001b[0m\u001b[33m\n",
      "\u001b[0m\u001b[33mWARNING: Error parsing requirements for python-dateutil: [Errno 2] No such file or directory: '/opt/conda/lib/python3.10/site-packages/python_dateutil-2.8.2.dist-info/METADATA'\u001b[0m\u001b[33m\n",
      "\u001b[0m\u001b[33mWARNING: Error parsing requirements for google-cloud-aiplatform: [Errno 2] No such file or directory: '/opt/conda/lib/python3.10/site-packages/google_cloud_aiplatform-1.42.1.dist-info/METADATA'\u001b[0m\u001b[33m\n",
      "\u001b[0m\u001b[33mWARNING: Error parsing requirements for nest-asyncio: [Errno 2] No such file or directory: '/opt/conda/lib/python3.10/site-packages/nest_asyncio-1.5.8.dist-info/METADATA'\u001b[0m\u001b[33m\n",
      "\u001b[0m\u001b[33mWARNING: Error parsing requirements for python-dateutil: [Errno 2] No such file or directory: '/opt/conda/lib/python3.10/site-packages/python_dateutil-2.8.2.dist-info/METADATA'\u001b[0m\u001b[33m\n",
      "\u001b[0mNote: you may need to restart the kernel to use updated packages.\n",
      "\u001b[33mWARNING: Error parsing requirements for google-cloud-aiplatform: [Errno 2] No such file or directory: '/opt/conda/lib/python3.10/site-packages/google_cloud_aiplatform-1.42.1.dist-info/METADATA'\u001b[0m\u001b[33m\n",
      "\u001b[0m\u001b[33mWARNING: Error parsing requirements for nest-asyncio: [Errno 2] No such file or directory: '/opt/conda/lib/python3.10/site-packages/nest_asyncio-1.5.8.dist-info/METADATA'\u001b[0m\u001b[33m\n",
      "\u001b[0m\u001b[33mWARNING: Error parsing requirements for python-dateutil: [Errno 2] No such file or directory: '/opt/conda/lib/python3.10/site-packages/python_dateutil-2.8.2.dist-info/METADATA'\u001b[0m\u001b[33m\n",
      "\u001b[0mNote: you may need to restart the kernel to use updated packages.\n"
     ]
    }
   ],
   "source": [
    "!pip install --quiet google-cloud-discoveryengine\n",
    "!pip install --upgrade --quiet google-cloud-storage\n",
    "%pip install --quiet google-cloud-discoveryengine\n",
    "%pip install --upgrade --quiet google-cloud-storage"
   ]
  },
  {
   "cell_type": "code",
   "execution_count": 2,
   "id": "924b9b34-af9d-4af3-b42e-c93e92482ad5",
   "metadata": {
    "tags": []
   },
   "outputs": [],
   "source": [
    "#Please enter your name/initials (no spaces or special characters allowed), ensure that it is unique\n",
    "UNIQUE_PREFIX=\"singhealth\""
   ]
  },
  {
   "cell_type": "code",
   "execution_count": 3,
   "id": "894d7f13-a452-4945-a9d0-73fef0c30af0",
   "metadata": {
    "tags": []
   },
   "outputs": [],
   "source": [
    "import re\n",
    "\n",
    "PROJECT_IDS = !(gcloud config get-value core/project)\n",
    "PROJECT_ID = PROJECT_IDS[0]\n",
    "\n",
    "SVC_ACC = !(gcloud config get-value core/account)\n",
    "SVC_ACC = SVC_ACC[0]\n",
    "\n",
    "PROJECT_NUMBER=str(re.search(r'\\d+', SVC_ACC).group())\n",
    "\n",
    "LOCATION=\"asia-southeast1\"\n",
    "\n",
    "FOLDER_NAME=\"./genai_03\""
   ]
  },
  {
   "cell_type": "code",
   "execution_count": 4,
   "id": "5f2b831f-a2ff-4c0d-9db2-47ba4a1938c0",
   "metadata": {},
   "outputs": [
    {
     "name": "stdout",
     "output_type": "stream",
     "text": [
      "Creating gs://my-project-0004-346516-singhealth/...\n",
      "Copying file://./genai_03/books/Book1_HarryPotter_and_the_Sorcerers_Stone_pg15.pdf [Content-Type=application/pdf]...\n",
      "Copying file://./genai_03/books/Winnie_the_Pooh_3_Pages.pdf [Content-Type=application/pdf]...\n",
      "| [2 files][643.2 KiB/643.2 KiB]                                                \n",
      "Operation completed over 2 objects/643.2 KiB.                                    \n",
      "gs://my-project-0004-346516-singhealth/Book1_HarryPotter_and_the_Sorcerers_Stone_pg15.pdf\n",
      "gs://my-project-0004-346516-singhealth/Winnie_the_Pooh_3_Pages.pdf\n"
     ]
    }
   ],
   "source": [
    "from google.cloud import storage\n",
    "\n",
    "client = storage.Client()\n",
    "\n",
    "GCS_BUCKET_LOCATION = \"asia-southeast1\"\n",
    "\n",
    "GCS_BUCKET_NAME = f\"{PROJECT_ID}-{UNIQUE_PREFIX}\"\n",
    "GCS_BUCKET_URI = f\"gs://{GCS_BUCKET_NAME}\"\n",
    "\n",
    "bucket = storage.Bucket(client, GCS_BUCKET_NAME)\n",
    "\n",
    "if bucket.exists()==False:\n",
    "    # Create a Cloud Storage Bucket\n",
    "    !gcloud storage buckets create $GCS_BUCKET_URI --location=$GCS_BUCKET_LOCATION\n",
    "\n",
    "    # Upload the PDFs located in the books/ directory into the GCS bucket that you created\n",
    "    !gsutil cp -r $FOLDER_NAME/books/* $GCS_BUCKET_URI\n",
    "\n",
    "    # Verify that all Books 1 to 7 are uploaded to the GCS bucket (8 files in total, 2 for Part 1)\n",
    "    !gsutil ls $GCS_BUCKET_URI\n",
    "else:\n",
    "    # Upload the PDFs located in the books/ directory into the GCS bucket that you created\n",
    "    !gsutil cp -r $FOLDER_NAME/books/* $GCS_BUCKET_URI\n",
    "\n",
    "    # Verify that all Books 1 to 7 are uploaded to the GCS bucket (8 files in total, 2 for Part 1)\n",
    "    !gsutil ls $GCS_BUCKET_URI\n",
    "    \n",
    "    print(f\"{GCS_BUCKET_NAME} already exists. Please proceed as usual.\")"
   ]
  },
  {
   "cell_type": "code",
   "execution_count": 5,
   "id": "acb244be-ce9e-4273-820c-645cbb7506d7",
   "metadata": {
    "tags": []
   },
   "outputs": [],
   "source": [
    "from typing import Optional\n",
    "\n",
    "from google.api_core.client_options import ClientOptions\n",
    "from google.cloud import discoveryengine\n",
    "\n",
    "\n",
    "#Must specify either `gcs_uri` or (`bigquery_dataset` and `bigquery_table`)\n",
    "#Format: `gs://bucket/directory/object.json` or `gs://bucket/directory/*.json`\n",
    "gcs_uri = GCS_BUCKET_URI\n",
    "\n",
    "\n",
    "def import_documents_sample(\n",
    "    project_id: str,\n",
    "    location: str,\n",
    "    data_store_id: str,\n",
    "    gcs_uri: Optional[str] = None,\n",
    "    bigquery_dataset: Optional[str] = None,\n",
    "    bigquery_table: Optional[str] = None,\n",
    ") -> str:\n",
    "    #  For more information, refer to:\n",
    "    # https://cloud.google.com/generative-ai-app-builder/docs/locations#specify_a_multi-region_for_your_data_store\n",
    "    client_options = (\n",
    "        ClientOptions(api_endpoint=f\"{location}-discoveryengine.googleapis.com\")\n",
    "        if location != \"global\"\n",
    "        else None\n",
    "    )\n",
    "\n",
    "    # Create a client\n",
    "    client = discoveryengine.DocumentServiceClient(client_options=client_options)\n",
    "\n",
    "    # The full resource name of the search engine branch.\n",
    "    # e.g. projects/{project}/locations/{location}/dataStores/{data_store_id}/branches/{branch}\n",
    "    parent = client.branch_path(\n",
    "        project=project_id,\n",
    "        location=location,\n",
    "        data_store=data_store_id,\n",
    "        branch=\"default_branch\",\n",
    "    )\n",
    "\n",
    "    if gcs_uri:\n",
    "        request = discoveryengine.ImportDocumentsRequest(\n",
    "            parent=parent,\n",
    "            gcs_source=discoveryengine.GcsSource(\n",
    "                input_uris=[gcs_uri], data_schema=\"custom\"\n",
    "            ),\n",
    "            # Options: `FULL`, `INCREMENTAL`\n",
    "            reconciliation_mode=discoveryengine.ImportDocumentsRequest.ReconciliationMode.INCREMENTAL,\n",
    "        )\n",
    "    else:\n",
    "        request = discoveryengine.ImportDocumentsRequest(\n",
    "            parent=parent,\n",
    "            bigquery_source=discoveryengine.BigQuerySource(\n",
    "                project_id=project_id,\n",
    "                dataset_id=bigquery_dataset,\n",
    "                table_id=bigquery_table,\n",
    "                data_schema=\"custom\",\n",
    "            ),\n",
    "            # Options: `FULL`, `INCREMENTAL`\n",
    "            reconciliation_mode=discoveryengine.ImportDocumentsRequest.ReconciliationMode.INCREMENTAL,\n",
    "        )\n",
    "\n",
    "    # Make the request\n",
    "    operation = client.import_documents(request=request)\n",
    "\n",
    "    print(f\"Waiting for operation to complete: {operation.operation.name}\")\n",
    "    response = operation.result()\n",
    "\n",
    "    # Once the operation is complete,\n",
    "    # get information from operation metadata\n",
    "    metadata = discoveryengine.ImportDocumentsMetadata(operation.metadata)\n",
    "\n",
    "    # Handle the response\n",
    "    print(response)\n",
    "    print(metadata)\n",
    "\n",
    "    return operation.operation.name\n"
   ]
  },
  {
   "cell_type": "markdown",
   "id": "a94b7aca-8fe8-4e91-ac9e-d578e16a2dbe",
   "metadata": {},
   "source": [
    "#### We try both open source pdf option as well as DOC AI "
   ]
  },
  {
   "cell_type": "code",
   "execution_count": 6,
   "id": "67585163-3c6a-4d5a-8975-9ad923add805",
   "metadata": {
    "tags": []
   },
   "outputs": [],
   "source": [
    "# !pip install PyMuPDF Pillow pytesseract"
   ]
  },
  {
   "cell_type": "code",
   "execution_count": 7,
   "id": "7d3310a5-7ce4-4bbe-ad12-7742cc755cc8",
   "metadata": {
    "scrolled": true,
    "tags": []
   },
   "outputs": [],
   "source": [
    "# !pip install langchain\n",
    "!gcloud services enable bigquery.googleapis.com"
   ]
  },
  {
   "cell_type": "code",
   "execution_count": 8,
   "id": "23d4a190-bfb9-4638-85c2-05f87b4c087a",
   "metadata": {
    "scrolled": true,
    "tags": []
   },
   "outputs": [
    {
     "name": "stdout",
     "output_type": "stream",
     "text": [
      "\u001b[33mWARNING: Error parsing requirements for google-cloud-aiplatform: [Errno 2] No such file or directory: '/opt/conda/lib/python3.10/site-packages/google_cloud_aiplatform-1.42.1.dist-info/METADATA'\u001b[0m\u001b[33m\n",
      "\u001b[0m\u001b[33mWARNING: Error parsing requirements for nest-asyncio: [Errno 2] No such file or directory: '/opt/conda/lib/python3.10/site-packages/nest_asyncio-1.5.8.dist-info/METADATA'\u001b[0m\u001b[33m\n",
      "\u001b[0m\u001b[33mWARNING: Error parsing requirements for python-dateutil: [Errno 2] No such file or directory: '/opt/conda/lib/python3.10/site-packages/python_dateutil-2.8.2.dist-info/METADATA'\u001b[0m\u001b[33m\n",
      "\u001b[0mNote: you may need to restart the kernel to use updated packages.\n",
      "\u001b[31mERROR: Could not install packages due to an OSError: [Errno 2] No such file or directory: '/opt/conda/lib/python3.10/site-packages/python_dateutil-2.8.2.dist-info/METADATA'\n",
      "\u001b[0m\u001b[31m\n",
      "\u001b[0mNote: you may need to restart the kernel to use updated packages.\n"
     ]
    }
   ],
   "source": [
    "%pip install --quiet PyPDF2\n",
    "%pip install --quiet pdfreader"
   ]
  },
  {
   "cell_type": "code",
   "execution_count": 9,
   "id": "ee4a9200-ac8a-4b6e-8b13-f04f7b9a7b78",
   "metadata": {
    "tags": []
   },
   "outputs": [],
   "source": [
    "from pdfreader import PDFDocument, SimplePDFViewer"
   ]
  },
  {
   "cell_type": "code",
   "execution_count": 10,
   "id": "eeae3ca7-17fe-4c4b-8bf5-3e28253d29f9",
   "metadata": {
    "tags": []
   },
   "outputs": [],
   "source": [
    "# Load the PDF document\n",
    "pdf_file = f\"{FOLDER_NAME}/books/Book1_HarryPotter_and_the_Sorcerers_Stone_pg15.pdf\""
   ]
  },
  {
   "cell_type": "code",
   "execution_count": 11,
   "id": "210546f9-6ac0-49c2-9efe-a8afcf2738ea",
   "metadata": {
    "tags": []
   },
   "outputs": [],
   "source": [
    "fd = open(pdf_file, \"rb\")\n",
    "doc = PDFDocument(fd)"
   ]
  },
  {
   "cell_type": "code",
   "execution_count": 12,
   "id": "3d9b970e-154c-4733-9ab8-0db58f2f57ca",
   "metadata": {
    "tags": []
   },
   "outputs": [],
   "source": [
    "from io import BytesIO\n",
    "with open(pdf_file, \"rb\") as f:\n",
    "    stream = BytesIO(f.read())\n",
    "doc2 = PDFDocument(stream)"
   ]
  },
  {
   "cell_type": "code",
   "execution_count": 13,
   "id": "63912d4a-e159-4ff0-aece-833145324a02",
   "metadata": {
    "tags": []
   },
   "outputs": [],
   "source": [
    "page_one = next(doc.pages())"
   ]
  },
  {
   "cell_type": "code",
   "execution_count": 14,
   "id": "141641f7-e22d-49b8-a736-62aff4cf690b",
   "metadata": {
    "tags": []
   },
   "outputs": [
    {
     "data": {
      "text/plain": [
       "<Stream:len=3699,data=b'x\\x9c\\xdd]K\\x8b\\xe4\\xc8\\x11\\xbe\\xf7\\xaf\\xd0\\xd9`\\xad\\xdeR\\x811\\xcc\\xf4\\xce\\x18| ...'>"
      ]
     },
     "execution_count": 14,
     "metadata": {},
     "output_type": "execute_result"
    }
   ],
   "source": [
    "# Extract text from the page\n",
    "page_one.Contents"
   ]
  },
  {
   "cell_type": "code",
   "execution_count": 15,
   "id": "9a65f523-2740-4e22-bcb8-83d2ec90bdb7",
   "metadata": {
    "tags": []
   },
   "outputs": [
    {
     "data": {
      "text/plain": [
       "15"
      ]
     },
     "execution_count": 15,
     "metadata": {},
     "output_type": "execute_result"
    }
   ],
   "source": [
    "all_pages = [p for p in doc.pages()]\n",
    "len(all_pages)"
   ]
  },
  {
   "cell_type": "markdown",
   "id": "1b0b3436-d991-4f8b-90d5-faddc8ec4a16",
   "metadata": {},
   "source": [
    "### Doc ai - Easiest and faster solution for all PDF documents "
   ]
  },
  {
   "cell_type": "code",
   "execution_count": 16,
   "id": "a76ba77c-a5a4-451b-bbeb-961fe09e5121",
   "metadata": {
    "scrolled": true,
    "tags": []
   },
   "outputs": [
    {
     "name": "stdout",
     "output_type": "stream",
     "text": [
      "\u001b[33mWARNING: Error parsing requirements for google-cloud-aiplatform: [Errno 2] No such file or directory: '/opt/conda/lib/python3.10/site-packages/google_cloud_aiplatform-1.42.1.dist-info/METADATA'\u001b[0m\u001b[33m\n",
      "\u001b[0m\u001b[33mWARNING: Error parsing requirements for nest-asyncio: [Errno 2] No such file or directory: '/opt/conda/lib/python3.10/site-packages/nest_asyncio-1.5.8.dist-info/METADATA'\u001b[0m\u001b[33m\n",
      "\u001b[0m\u001b[33mWARNING: Error parsing requirements for python-dateutil: [Errno 2] No such file or directory: '/opt/conda/lib/python3.10/site-packages/python_dateutil-2.8.2.dist-info/METADATA'\u001b[0m\u001b[33m\n",
      "\u001b[0m\u001b[33mWARNING: Error parsing requirements for google-cloud-aiplatform: [Errno 2] No such file or directory: '/opt/conda/lib/python3.10/site-packages/google_cloud_aiplatform-1.42.1.dist-info/METADATA'\u001b[0m\u001b[33m\n",
      "\u001b[0m\u001b[33mWARNING: Error parsing requirements for nest-asyncio: [Errno 2] No such file or directory: '/opt/conda/lib/python3.10/site-packages/nest_asyncio-1.5.8.dist-info/METADATA'\u001b[0m\u001b[33m\n",
      "\u001b[0m\u001b[33mWARNING: Error parsing requirements for python-dateutil: [Errno 2] No such file or directory: '/opt/conda/lib/python3.10/site-packages/python_dateutil-2.8.2.dist-info/METADATA'\u001b[0m\u001b[33m\n",
      "\u001b[0m\u001b[31mERROR: Could not install packages due to an OSError: [Errno 2] No such file or directory: '/opt/conda/lib/python3.10/site-packages/python_dateutil-2.8.2.dist-info/METADATA'\n",
      "\u001b[0m\u001b[31m\n",
      "\u001b[0m"
     ]
    }
   ],
   "source": [
    "!pip3 install --upgrade -q google-cloud-documentai\n",
    "!pip3 install --upgrade -q google-cloud-storage\n",
    "!pip3 install --upgrade -q google-cloud-documentai-toolbox"
   ]
  },
  {
   "cell_type": "code",
   "execution_count": 17,
   "id": "19e9ebea-f629-4616-afb8-6da716901dd1",
   "metadata": {
    "tags": []
   },
   "outputs": [
    {
     "name": "stdout",
     "output_type": "stream",
     "text": [
      " 20230203_alphabet_10K.pdf\n",
      "'Advanced_RAG_Strategies_w_Langchain_ipynb_(go_adv_rag_colab).ipynb'\n",
      " Course\n",
      " Course_v2.zip\n",
      " Drain_detection_trip_30sec.mov\n",
      " PXL_20240220_113209161.mpeg\n",
      " README.md\n",
      " Trip_Itinerary_Planner_using_Vertex_LLM.ipynb\n",
      "'Vertex_AI_Gemini_PRO_Testing (1).ipynb'\n",
      " Vertex_AI_Gemini_PRO_Testing.ipynb\n",
      " Vertex_AI_Gemini_PRO_Testing_v2.ipynb\n",
      "'Vertex_LLM_Factuality_fishfood (1).ipynb'\n",
      " books\n",
      " eval-gen-ai\n",
      " genai_03\n",
      " generative-ai\n",
      " google_cloud_aiplatform-1.38.dev20231206+generative.models-py2.py3-none-any.whl\n",
      " google_cloud_aiplatform-1.44.dev20240308+rapid.genai.evaluation-py2.py3-none-any.whl\n",
      " hpc-toolkit\n",
      " istockphoto-479669340-640_adpp_is.mp4\n",
      " matchingengine\n",
      " medical_data.csv\n",
      "'model_garden_pytorch_falcon_instruct_peft (1).ipynb'\n",
      " output.mp4\n",
      " product_description_generator_attributes_to_text.ipynb\n",
      " sealion_test\n",
      " trim_drain_2.mp4\n"
     ]
    }
   ],
   "source": [
    "!ls"
   ]
  },
  {
   "cell_type": "code",
   "execution_count": 18,
   "id": "32db6ba2-21d4-4f38-b698-93db4eff6a17",
   "metadata": {
    "tags": []
   },
   "outputs": [
    {
     "name": "stdout",
     "output_type": "stream",
     "text": [
      "mkdir: cannot create directory ‘./books’: File exists\n",
      "mkdir: cannot create directory ‘./matchingengine’: File exists\n",
      "mkdir: cannot create directory ‘./matchingengine/embeddings’: File exists\n"
     ]
    }
   ],
   "source": [
    "\n",
    "!mkdir ./books\n",
    "!mkdir ./matchingengine\n",
    "!mkdir ./matchingengine/embeddings"
   ]
  },
  {
   "cell_type": "markdown",
   "id": "e2b31f35-e7c8-4aac-b69b-ef11e57f6d23",
   "metadata": {},
   "source": [
    "### Define helper functions"
   ]
  },
  {
   "cell_type": "code",
   "execution_count": 19,
   "id": "6767d615-1f74-4503-af3d-e152541523e1",
   "metadata": {},
   "outputs": [],
   "source": [
    "# Function to create Document AI Processor\n",
    "def create_processor(project_id, location, processor_display_name, processor_type):\n",
    "    # You must set the api_endpoint if you use a location other than 'us'.\n",
    "    opts = ClientOptions(api_endpoint=f\"{location}-documentai.googleapis.com\")\n",
    "\n",
    "    client = documentai.DocumentProcessorServiceClient(client_options=opts)\n",
    "\n",
    "    # The full resource name of the location\n",
    "    # e.g.: projects/project_id/locations/location\n",
    "    parent = client.common_location_path(project_id, location)\n",
    "\n",
    "    # Create a processor\n",
    "    processor = client.create_processor(\n",
    "        parent=parent,\n",
    "        processor=documentai.Processor(\n",
    "            display_name=processor_display_name, type_=processor_type\n",
    "        ),\n",
    "    )\n",
    "    \n",
    "    processor_id = processor.name.split('/')[-1]\n",
    "\n",
    "    # Print the processor information\n",
    "    print(f\"Processor Name: {processor.name}\")\n",
    "    print(f\"Processor Display Name: {processor.display_name}\")\n",
    "    print(f\"Processor ID: {processor_id}\")\n",
    "    print(f\"Processor Type: {processor.type_}\")\n",
    "    \n",
    "    \n",
    "    return processor, processor_id\n",
    "\n",
    "#Function to retrieve list of existing processors\n",
    "def list_processors(project_id: str, location: str) -> None:\n",
    "    processorList=[]\n",
    "    \n",
    "    # You must set the api_endpoint if you use a location other than 'us'.\n",
    "    opts = ClientOptions(api_endpoint=f\"{location}-documentai.googleapis.com\")\n",
    "\n",
    "    client = documentai.DocumentProcessorServiceClient(client_options=opts)\n",
    "\n",
    "    # The full resource name of the location\n",
    "    # e.g.: projects/project_id/locations/location\n",
    "    parent = client.common_location_path(PROJECT_ID, location)\n",
    "\n",
    "    # Make ListProcessors request\n",
    "    processor_list = client.list_processors(parent=parent)\n",
    "\n",
    "    # Print the processor information\n",
    "    for processor in processor_list:\n",
    "        print(f\"Processor Name: {processor.name}\")\n",
    "        print(f\"Processor Display Name: {processor.display_name}\")\n",
    "        print(f\"Processor Type: {processor.type_}\")\n",
    "        processorList.append(processor)\n",
    "        \n",
    "    return processorList"
   ]
  },
  {
   "cell_type": "markdown",
   "id": "fbfe4c03-dc3d-4c4c-9a5c-d001f950170a",
   "metadata": {},
   "source": [
    "### Import Document AI libraries and set variables\n"
   ]
  },
  {
   "cell_type": "code",
   "execution_count": 20,
   "id": "064db628-8878-4432-9593-1e4e06af4c1a",
   "metadata": {},
   "outputs": [],
   "source": [
    "from google.api_core.client_options import ClientOptions\n",
    "from google.cloud import documentai\n",
    "\n",
    "GCP_PROJECT = PROJECT_ID #'cloud-llm-preview1'\n",
    "GCP_REGION='asia-southeast1'\n",
    "\n",
    "# Variables for Document AI OCR Processor\n",
    "PROCESSOR_DISPLAY_NAME = UNIQUE_PREFIX + '-ocr-processor' # Must be unique per project, e.g.: 'My Processor'\n",
    "PROCESSOR_TYPE = 'OCR_PROCESSOR' # Use fetch_processor_types to get available processor types"
   ]
  },
  {
   "cell_type": "markdown",
   "id": "7dac09d5-e492-4d13-a247-d2d9ba4624ca",
   "metadata": {},
   "source": [
    "### Create Document AI Document OCR Processor\n"
   ]
  },
  {
   "cell_type": "code",
   "execution_count": 21,
   "id": "a6d44e0a-6322-4b04-8a49-d41fe27cda9c",
   "metadata": {},
   "outputs": [
    {
     "name": "stdout",
     "output_type": "stream",
     "text": [
      "Processor Name: projects/255766800726/locations/us/processors/3a0cba6f2a623041\n",
      "Processor Display Name: jingletest1-ocr-processor\n",
      "Processor Type: OCR_PROCESSOR\n",
      "Processor Name: projects/255766800726/locations/us/processors/2bfcbd882151f885\n",
      "Processor Display Name: asia-notebooks-ocr-processor\n",
      "Processor Type: OCR_PROCESSOR\n",
      "Processor Name: projects/255766800726/locations/us/processors/abd8c64b34e1f461\n",
      "Processor Display Name: genai_processor\n",
      "Processor Type: CUSTOM_EXTRACTION_PROCESSOR\n",
      "Processor Name: projects/255766800726/locations/us/processors/8563cd6b7c47e789\n",
      "Processor Display Name: IMDA\n",
      "Processor Type: SUMMARY_PROCESSOR\n",
      "Processor Name: projects/255766800726/locations/us/processors/14d20d44606f1fa7\n",
      "Processor Display Name: AGD extractor\n",
      "Processor Type: CUSTOM_EXTRACTION_PROCESSOR\n",
      "Processor Name: projects/255766800726/locations/us/processors/80e28448feadd169\n",
      "Processor Display Name: novel-summariser\n",
      "Processor Type: SUMMARY_PROCESSOR\n",
      "Processor Name: projects/255766800726/locations/us/processors/8ff48092cfc1ada4\n",
      "Processor Display Name: novel-search\n",
      "Processor Type: SUMMARY_PROCESSOR\n",
      "Processor Name: projects/255766800726/locations/us/processors/2b346acf26cb6b5f\n",
      "Processor Display Name: my_general_processor\n",
      "Processor Type: FORM_PARSER_PROCESSOR\n",
      "Processor Name: projects/255766800726/locations/us/processors/a9737230c1aaa08a\n",
      "Processor Display Name: cde3\n",
      "Processor Type: CUSTOM_EXTRACTION_PROCESSOR\n",
      "Processor Name: projects/255766800726/locations/us/processors/1f9d7586df84df77\n",
      "Processor Display Name: drivers license partser analyser\n",
      "Processor Type: US_PASSPORT_PROCESSOR\n",
      "Processor Name: projects/255766800726/locations/us/processors/2c0c942e2277fec\n",
      "Processor Display Name: Document_Quality\n",
      "Processor Type: CUSTOM_CLASSIFICATION_PROCESSOR\n",
      "Processor Name: projects/255766800726/locations/us/processors/100508b0cef17f96\n",
      "Processor Display Name: cde-demo\n",
      "Processor Type: CUSTOM_EXTRACTION_PROCESSOR\n",
      "Processor Name: projects/255766800726/locations/us/processors/d3265806c455a80a\n",
      "Processor Display Name: invoiceparser\n",
      "Processor Type: INVOICE_PROCESSOR\n",
      "Processor Name: projects/255766800726/locations/us/processors/678be5cf2eb1c102\n",
      "Processor Display Name: classifier\n",
      "Processor Type: CUSTOM_CLASSIFICATION_PROCESSOR\n",
      "Processor Name: projects/255766800726/locations/us/processors/bb9130bb558f54c9\n",
      "Processor Display Name: expenseParser\n",
      "Processor Type: EXPENSE_PROCESSOR\n",
      "Processor Name: projects/255766800726/locations/us/processors/c66ce4457bf5af37\n",
      "Processor Display Name: Dococr\n",
      "Processor Type: OCR_PROCESSOR\n",
      "Processor Name: projects/255766800726/locations/us/processors/79a692bd68ef227c\n",
      "Processor Display Name: docOCR\n",
      "Processor Type: OCR_PROCESSOR\n",
      "Processor Name: projects/255766800726/locations/us/processors/d391ac4311e8a694\n",
      "Processor Display Name: singhealth-ocr-processor\n",
      "Processor ID: d391ac4311e8a694\n",
      "Processor Type: OCR_PROCESSOR\n",
      "Processor d391ac4311e8a694 already exists.\n"
     ]
    }
   ],
   "source": [
    "LOCATION=\"us\"\n",
    "\n",
    "processorList=list_processors(PROJECT_ID,LOCATION)\n",
    "\n",
    "def createUniqueProcessor():\n",
    "    if len(processorList)==0:\n",
    "        PROCESSOR, PROCESSOR_ID = create_processor(PROJECT_ID, LOCATION,PROCESSOR_DISPLAY_NAME, PROCESSOR_TYPE)\n",
    "        return PROCESSOR, PROCESSOR_ID\n",
    "    else:\n",
    "        for processor in processorList:\n",
    "            if PROCESSOR_DISPLAY_NAME==processor.display_name:\n",
    "                PROCESSOR_ID=processor.name.split('/')[-1]\n",
    "                PROCESSOR=processor\n",
    "                return PROCESSOR, PROCESSOR_ID\n",
    "            else:\n",
    "                try:\n",
    "                    PROCESSOR, PROCESSOR_ID = create_processor(PROJECT_ID, LOCATION,PROCESSOR_DISPLAY_NAME, PROCESSOR_TYPE)\n",
    "                    return PROCESSOR, PROCESSOR_ID\n",
    "                except:\n",
    "                    continue\n",
    "                \n",
    "\n",
    "PROCESSOR, PROCESSOR_ID = createUniqueProcessor()\n",
    "\n",
    "\n",
    "print(f\"Processor {PROCESSOR_ID} already exists.\")"
   ]
  },
  {
   "cell_type": "code",
   "execution_count": 22,
   "id": "e8ea778b-c77e-407f-ba9a-a8b2c1ff5804",
   "metadata": {
    "tags": []
   },
   "outputs": [
    {
     "name": "stdout",
     "output_type": "stream",
     "text": [
      "\u001b[33mWARNING: Error parsing requirements for google-cloud-aiplatform: [Errno 2] No such file or directory: '/opt/conda/lib/python3.10/site-packages/google_cloud_aiplatform-1.42.1.dist-info/METADATA'\u001b[0m\u001b[33m\n",
      "\u001b[0m\u001b[33mWARNING: Error parsing requirements for nest-asyncio: [Errno 2] No such file or directory: '/opt/conda/lib/python3.10/site-packages/nest_asyncio-1.5.8.dist-info/METADATA'\u001b[0m\u001b[33m\n",
      "\u001b[0m\u001b[33mWARNING: Error parsing requirements for python-dateutil: [Errno 2] No such file or directory: '/opt/conda/lib/python3.10/site-packages/python_dateutil-2.8.2.dist-info/METADATA'\u001b[0m\u001b[33m\n",
      "\u001b[0mNote: you may need to restart the kernel to use updated packages.\n",
      "\u001b[31mERROR: Could not install packages due to an OSError: [Errno 2] No such file or directory: '/opt/conda/lib/python3.10/site-packages/python_dateutil-2.8.2.dist-info/METADATA'\n",
      "\u001b[0m\u001b[31m\n",
      "\u001b[0mNote: you may need to restart the kernel to use updated packages.\n"
     ]
    }
   ],
   "source": [
    "%pip install --upgrade --quiet  google-cloud-documentai\n",
    "%pip install --upgrade --quiet  google-cloud-documentai-toolbox"
   ]
  },
  {
   "cell_type": "code",
   "execution_count": 23,
   "id": "f51a8576-a992-4cc3-8216-e88a9276b4db",
   "metadata": {
    "scrolled": true,
    "tags": []
   },
   "outputs": [
    {
     "name": "stdout",
     "output_type": "stream",
     "text": [
      "Document processing complete.\n",
      "Text: CHAPTER ONE\n",
      "THE BOY WHO LIVED\n",
      "Mr. and Mrs. Dursley, of number four, Privet Drive, were proud to say\n",
      "that they were perfectly normal, thank you very much. They were the last people\n",
      "you'd expect to be involved in anything strange or mysterious, because they just\n",
      "didn't hold with such nonsense.\n",
      "Mr. Dursley was the director of a firm called Grunnings, which made\n",
      "drills. He was a big, beefy man with hardly any neck, although he did have a\n",
      "very large mustache. Mrs. Dursley was thin and blonde and had nearly twice the\n",
      "usual amount of neck, which came in very useful as she spent so much of her\n",
      "time craning over garden fences, spying on the neighbors. The Dursleys had a\n",
      "small son called Dudley and in their opinion there was no finer boy anywhere.\n",
      "The Dursleys had everything they wanted, but they also had a secret, and\n",
      "their greatest fear was that somebody would discover it. They didn't think they\n",
      "could bear it if anyone found out about the Potters. Mrs. Potter was Mrs.\n",
      "Dursley's sister, but they hadn't met for several years; in fact, Mrs. Dursley\n",
      "pretended she didn't have a sister, because her sister and her good-for-nothing\n",
      "husband were as unDursleyish as it was possible to be. The Dursleys shuddered\n",
      "to think what the neighbors would say if the Potters arrived in the street. The\n",
      "Dursleys knew that the Potters had a small son, too, but they had never even\n",
      "seen him. This boy was another good reason for keeping the Potters away; they\n",
      "didn't want Dudley mixing with a child like that.\n",
      "When Mr. and Mrs. Dursley woke up on the dull, gray Tuesday our story\n",
      "starts, there was nothing about the cloudy sky outside to suggest that strange and\n",
      "mysterious things would soon be happening all over the country. Mr. Dursley\n",
      "hummed as he picked out his most boring tie for work, and Mrs. Dursley\n",
      "gossiped away happily as she wrestled a screaming Dudley into his high chair.\n",
      "None of them noticed a large, tawny owl flutter past the window.\n",
      "At half past eight, Mr. Dursley picked up his briefcase, pecked Mrs.\n",
      "Dursley on the cheek, and tried to kiss Dudley good-bye but missed, because\n",
      "Dudley was now having a tantrum and throwing his cereal at the walls.\n",
      "\"Little tyke,\" chortled Mr. Dursley as he left the house. He got into his car\n",
      "and backed out of number four's drive.\n",
      "It was on the corner of the street that he noticed the first sign of\n",
      "-\n",
      "-\n",
      "something peculiar a cat reading a map. For a second, Mr. Dursley didn't\n",
      "realize what he had seen then he jerked his head around to look again. There\n",
      "was a tabby cat standing on the corner of Privet Drive, but there wasn't a map in\n",
      "sight. What could he have been thinking of? It must have been a trick of the\n",
      "light. Mr. Dursley blinked and stared at the cat. It stared back. As Mr. Dursley\n",
      "drove around the corner and up the road, he watched the cat in his mirror. It was\n",
      "now reading the sign that said Privet Drive no, looking at the sign; cats\n",
      "couldn't read maps or signs. Mr. Dursley gave himself a little shake and put the\n",
      "cat out of his mind. As he drove toward town he thought of nothing except a\n",
      "large order of drills he was hoping to get that day.\n",
      "-\n",
      "But on the edge of town, drills were driven out of his mind by something\n",
      "else. As he sat in the usual morning traffic jam, he couldn't help noticing that\n",
      "there seemed to be a lot of strangely dressed people about. People in cloaks. Mr.\n",
      "Dursley couldn't bear people who dressed in funny clothes the getups you\n",
      "saw on young people! He supposed this was some stupid new fashion. He\n",
      "drummed his fingers on the steering wheel and his eyes fell on a huddle of these\n",
      "weirdos standing quite close by. They were whispering excitedly together. Mr.\n",
      "Dursley was enraged to see that a couple of them weren't young at all; why, that\n",
      "man had to be older than he was, and wearing an emerald-green cloak! The\n",
      "nerve of him! But then it struck Mr. Dursley that this was probably some silly\n",
      "stunt ―these people were obviously collecting for something...yes, that would\n",
      "be it. The traffic moved on and a few minutes later, Mr. Dursley arrived in the\n",
      "Grunnings parking lot, his mind back on drills.\n",
      "Mr. Dursley always sat with his back to the window in his office on the\n",
      "ninth floor. If he hadn't, he might have found it harder to concentrate on drills\n",
      "that morning. He didn't see the owls swooping past in broad daylight, though\n",
      "people down in the street did; they pointed and gazed open-mouthed as owl after\n",
      "owl sped overhead. Most of them had never seen an owl even at nighttime. Mr.\n",
      "Dursley, however, had a perfectly normal, owl-free morning. He yelled at five\n",
      "different people. He made several important telephone calls and shouted a bit\n",
      "more. He was in a very good mood until lunchtime, when he thought he'd stretch\n",
      "his legs and walk across the road to buy himself a bun from the bakery.\n",
      "He'd for gotten all about the people in cloaks until he passed a group of\n",
      "them next to the baker's. He eyed them angrily as he passed. He didn't know\n",
      "why, but they made him uneasy. This bunch were whispering excitedly, too, and\n",
      "he couldn't see a single collecting tin. It was on his way back past them,\n",
      "clutching a large doughnut in a bag, that he caught a few words of what they\n",
      "were saying.\n",
      "\"The Potters, that's right, that's what I heard\n",
      "وو\n",
      "66\n",
      "yes, their son, Harry ·\n",
      "دو\n",
      "Mr. Dursley stopped dead. Fear flooded him. He looked back at the\n",
      "whisperers as if he wanted to say something to them, but thought better of it.\n",
      "He dashed back across the road, hurried up to his office, snapped at his\n",
      "secretary not to disturb him, seized his telephone, and had almost finished\n",
      "dialing his home number when he changed his mind. He put the receiver back\n",
      "down and stroked his mustache, thinking...no, he was being stupid. Potter\n",
      "wasn't such an unusual name. He was sure there were lots of people called Potter\n",
      "who had a son called Harry. Come to think of it, he wasn't even sure his nephew\n",
      "was called Harry. He'd never even seen the boy. It might have been Harvey. Or\n",
      "Harold. There was no point in worrying Mrs. Dursley; she always got so upset at\n",
      "any mention of her sister. He didn't blame her if he'd had a sister like that...\n",
      "but all the same, those people in cloaks…...\n",
      "-\n",
      "He found it a lot harder to concentrate on drills that afternoon and when\n",
      "he left the building at five o'clock, he was still so worried that he walked straight\n",
      "into someone just outside the door.\n",
      "\"Sorry,\" he grunted, as the tiny old man stumbled and almost fell. It was\n",
      "a few seconds before Mr. Dursley realized that the man was wearing a violet\n",
      "cloak. He didn't seem at all upset at being almost knocked to the ground. On the\n",
      "contrary, his face split into a wide smile and he said in a squeaky voice that made\n",
      "passersby stare, “Don't be sorry, my dear sir, for nothing could upset me today!\n",
      "Rejoice, for You-Know-Who has gone at last! Even Muggles like yourself\n",
      "should be celebrating, this happy, happy day!\"\n",
      "And the old man hugged Mr. Dursley around the middle and walked off.\n",
      "Mr. Dursley stood rooted to the spot. He had been hugged by a complete\n",
      "stranger. He also thought he had been called a Muggle, whatever that was. He\n",
      "was rattled. He hurried to his car and set off for home, hoping he was imagining\n",
      "things, which he had never hoped before, because he didn't approve of\n",
      "imagination.\n",
      "-\n",
      "As he pulled into the driveway of number four, the first thing he saw\n",
      "and it didn't improve his mood was the tabby cat he'd spotted that morning. It\n",
      "was now sitting on his garden wall. He was sure it was the same one; it had the\n",
      "same markings around its eyes.\n",
      "\"Shoo!\" said Mr. Dursley loudly.\n",
      "The cat didn't move. It just gave him a stern look. Was this normal cat\n",
      "behavior? Mr. Dursley wondered. Trying to pull himself together, he let himself\n",
      "into the house. He was still determined not to mention anything to his wife.\n",
      "Mrs. Dursley had had a nice, normal day. She told him over dinner all\n",
      "about Mrs. Next Door's problems with her daughter and how Dudley had\n",
      "learned a new word (\"Won't!\"). Mr. Dursley tried to act normally. When Dudley\n",
      "had been put to bed, he went into the living room in time to catch the last report\n",
      "on the evening news:\n",
      "\"And finally, bird-watchers everywhere have reported that the nation's\n",
      "owls have been behaving very unusually today. Although owls normally hunt at\n",
      "night and are hardly ever seen in daylight, there have been hundreds of sightings\n",
      "of these birds flying in every direction since sunrise. Experts are unable to\n",
      "explain why the owls have suddenly changed their sleeping pattern.\" The\n",
      "newscaster allowed himself a grin. “Most mysterious. And now, over to Jim\n",
      "McGuffin with the weather. Going to be any more showers of owls tonight,\n",
      "Jim?\"\n",
      "\"Well, Ted,\" said the weatherman, “I don't know about that, but it's not\n",
      "only the owls that have been acting oddly today. Viewers as far apart as Kent,\n",
      "Yorkshire, and Dundee have been phoning in to tell me that instead of the rain I\n",
      "promised yesterday, they've had a downpour of shooting stars! Perhaps people\n",
      "have been celebrating Bonfire Night early - it's not until next week, folks! But\n",
      "I can promise a wet night tonight.\"\n",
      "Mr. Dursley sat frozen in his armchair. Shooting stars all over Britain?\n",
      "Owls flying by daylight? Mysterious people in cloaks all over the place? And a\n",
      "whisper, a whisper about the Potters....\n",
      "Mrs. Dursley came into the living room carrying two cups of tea. It was\n",
      "no good. He'd have to say something to her. He cleared his throat nervously. \"Er\n",
      "-Petunia, dear - you haven't heard from your sister lately, have you?\"\n",
      "As he had expected, Mrs. Dursley looked shocked and angry. After all,\n",
      "they normally pretended she didn't have a sister.\n",
      "\"No,\" she said sharply. \"Why?\"\n",
      "\"Funny stuff on the news,\" Mr. Dursley mumbled. \"Owls...shooting\n",
      "stars...and there were a lot of funny-looking people in town today....”\n",
      "\"So?\" snapped Mrs. Dursley.\n",
      "\"Well, I just thought...maybe...it was something to do with...you\n",
      "know...her crowd.\"\n",
      "Mrs. Dursley sipped her tea through pursed lips. Mr. Dursley wondered\n",
      "whether he dared tell her he'd heard the name “Potter.\" He decided he didn't\n",
      "dare. Instead he said, as casually as he could, \"Their son he'd be about\n",
      "Dudley's age now, wouldn't he?\"\n",
      "\"I suppose so,\" said Mrs. Dursley stiffly.\n",
      "\"What's his name again? Howard, isn't it?\"\n",
      "\"Harry. Nasty, common name, if you ask me.\"\n",
      "—\n",
      "\"Oh, yes,\" said Mr. Dursley, his heart sinking horribly. \"Yes, I quite\n",
      "agree.\"\n",
      "He didn't say another word on the subject as they went upstairs to bed.\n",
      "While Mrs. Dursley was in the bathroom, Mr. Dursley crept to the bedroom\n",
      "window and peered down into the front garden. The cat was still there. It was\n",
      "staring down Privet Drive as though it were waiting for something.\n",
      "Was he imagining things? Could all this have anything to do with the\n",
      "Potters? If it did...if it got out that they were related to a pair of — well, he didn't\n",
      "think he could bear it.\n",
      "-\n",
      "The Dursleys got into bed. Mrs. Dursley fell asleep quickly but Mr.\n",
      "Dursley lay awake, turning it all over in his mind. His last, comforting thought\n",
      "before he fell asleep was that even if the Potters were involved, there was no\n",
      "reason for them to come near him and Mrs. Dursley. The Potters knew very well\n",
      "what he and Petunia thought about them and their kind....He couldn't see how he\n",
      "and Petunia could get mixed up in anything that might be going on - he\n",
      "yawned and turned over it couldn't affect them………\n",
      "-\n",
      "How very wrong he was.\n",
      "Mr. Dursley might have been drifting into an uneasy sleep, but the cat on\n",
      "the wall outside was showing no sign of sleepiness. It was sitting as still as a\n",
      "statue, its eyes fixed unblinkingly on the far corner of Privet Drive. It didn't so\n",
      "much as quiver when a car door slammed on the next street, nor when two owls\n",
      "swooped overhead. In fact, it was nearly midnight before the cat moved at all.\n",
      "A man appeared on the corner the cat had been watching, appeared so\n",
      "suddenly and silently you'd have thought he'd just popped out of the ground.\n",
      "The cat's tail twitched and its eyes narrowed.\n",
      "Nothing like this man had ever been seen on Privet Drive. He was tall,\n",
      "thin, and very old, judging by the silver of his hair and beard, which were both\n",
      "long enough to tuck into his belt. He was wearing long robes, a purple cloak that\n",
      "swept the ground, and high-heeled, buckled boots. His blue eyes were light,\n",
      "bright, and sparkling behind half-moon spectacles and his nose was very long\n",
      "and crooked, as though it had been broken at least twice. This man's name was\n",
      "Albus Dumbledore.\n",
      "Albus Dumbledore didn't seem to realize that he had just arrived in a\n",
      "street where everything from his name to his boots was unwelcome. He was\n",
      "busy rummaging in his cloak, looking for something. But he did seem to realize\n",
      "he was being watched, because he looked up suddenly at the cat, which was still\n",
      "staring at him from the other end of the street. For some reason, the sight of the\n",
      "cat seemed to amuse him. He chuckled and muttered, “I should have known.\"\n",
      "He found what he was looking for in his inside pocket. It seemed to be a\n",
      "silver cigarette lighter. He flicked it open, held it up in the air, and clicked it. The\n",
      "-\n",
      "nearest street lamp went out with a little pop. He clicked it again the next\n",
      "lamp flickered into darkness. Twelve times he clicked the Put-Outer, until the\n",
      "only lights left on the whole street were two tiny pinpricks in the distance, which\n",
      "were the eyes of the cat watching him. If anyone looked out of their window\n",
      "now, even beady-eyed Mrs. Dursley, they wouldn't be able to see anything that\n",
      "was happening down on the pavement. Dumbledore slipped the Put-Outer back\n",
      "inside his cloak and set off down the street toward number four, where he sat\n",
      "down on the wall next to the cat. He didn't look at it, but after a moment he\n",
      "spoke to it.\n",
      "\"Fancy seeing you here, Professor McGonagall.\"\n",
      "He turned to smile at the tabby, but it had gone. Instead he was smiling at\n",
      "a rather severe-looking woman who was wearing square glasses exactly the\n",
      "shape of the markings the cat had had around its eyes. She, too, was wearing a\n",
      "cloak, an emerald one. Her black hair was drawn into a tight bun. She looked\n",
      "distinctly ruffled.\n",
      "\"How did you know it was me?” she asked.\n",
      "\"My dear Professor, I've never seen a cat sit so stiffly.\"\n",
      "\"You'd be stiff if you'd been sitting on a brick wall all day,\" said\n",
      "Professor McGonagall.\n",
      "\"All day? When you could have been celebrating? I must have passed a\n",
      "dozen feasts and parties on my way here.\"\n",
      "Professor McGonagall sniffed angrily.\n",
      "\"Oh yes, I've celebrating, all right,\" she said impatiently. \"You'd think\n",
      "they'd be a bit more careful, but no even the Muggles have noticed\n",
      "something's going on. It was on their news.\" She jerked her head back at the\n",
      "Dursleys' dark living-room window. “I heard it. Flocks of owls…..shooting\n",
      "stars...Well, they're not completely stupid. They were bound to notice\n",
      "something. Shooting stars down in Kent — I'll bet that was Dedalus Diggle. He\n",
      "never had much sense.\"\n",
      "\"You can't blame them,” said Dumbledore gently. \"We've had precious\n",
      "little to celebrate for eleven years.\"\n",
      "\"I know that,\" said Professor McGonagall irritably. \"But that's no reason\n",
      "to lose our heads. People are being downright careless, out on the streets in\n",
      "broad daylight, not even dressed in Muggle clothes, swapping rumors.\n",
      "دو\n",
      "She threw a sharp, sideways glance at Dumbledore here, as though\n",
      "hoping he was going to tell her something, but he didn't, so she went on. “A fine\n",
      "thing it would be if, on the very day You-Know-Who seems to have disappeared\n",
      "at last, the Muggles found out about us all. I suppose he really has gone,\n",
      "Dumbledore?\"\n",
      "\"It certainly seems so,\" said Dumbledore. \"We have much to be thankful\n",
      "for. Would you care for a lemon drop?\"\n",
      "\"A what?\"\n",
      "\"A lemon drop. They're a kind of Muggle sweet I'm rather fond of.\"\n",
      "\"No, thank you,\" said Professor McGonagall coldly, as though she didn't\n",
      "think this was the moment for lemon drops. “As I say, even if You-know-Who\n",
      "has gone\n",
      "وو\n",
      "\"My dear Professor, surely a sensible person like yourself can call him by\n",
      "his name? All this 'You-Know-Who' nonsense for eleven years I have been\n",
      "trying to persuade people to call him by his proper name: Voldemort.\" Professor\n",
      "McGonagall flinched, but Dumbledore, who was unsticking two lemon drops,\n",
      "seemed not to notice. “It all gets so confusing if we keep saying 'You-Know-\n",
      "Who.' I have never seen any reason to be frightened of saying Voldemort's\n",
      "name.\"\n",
      "\"I know you haven't, said Professor McGonagall, sounding half\n",
      "exasperated, half admiring. “But you're different. Everyone knows you're the\n",
      "only one You-Know- oh, all right, Voldemort, was frightened of.”\n",
      "\"You flatter me,\" said Dumbledore calmly. \"Voldemort had powers I will\n",
      "never have.\"\n",
      "\"Only because you're too — well — noble to use them.\"\n",
      "-\n",
      "\"It's lucky it's dark. I haven't blushed so much since Madam Pomfrey\n",
      "told me she liked my new earmuffs.”\n",
      "Professor McGonagall shot a sharp look at Dumbledore and said “The\n",
      "owls are nothing next to the rumors that are flying around. You know what\n",
      "they're saying? About why he's disappeared? About what finally stopped him?\"\n",
      "It seemed that Professor McGonagall had reached the point she was most\n",
      "anxious to discuss, the real reason she had been waiting on a cold, hard wall all\n",
      "day, for neither as a cat nor as a woman had she fixed Dumbledore with such a\n",
      "piercing stare as she did now. It was plain that whatever “everyone\" was saying,\n",
      "she was not going to believe it until Dumbledore told her it was true.\n",
      "Dumbledore, however, was choosing another lemon drop and did not answer.\n",
      "\"What they're saying,\" she pressed on, \"is that last night Voldemort\n",
      "turned up in Godric's Hollow. He went to find the Potters. The rumor is that Lily\n",
      "and James Potter are are\n",
      "- dead.\"\n",
      "that they're\n",
      "-\n",
      "-\n",
      "-\n",
      "Dumbledore bowed his head. Professor McGonagall gasped.\n",
      "Albus...\"\n",
      "\"Lily and James...I can't believe it...I didn't want to believe it...Oh,\n",
      "Dumbledore reached out and patted her on the shoulder. \"I know...I\n",
      "know...\" he said heavily.\n",
      "Professor McGonagall's voice trembled as she went on. “That's not all.\n",
      "They're saying he tried to kill the Potter's son, Harry. But he couldn't. He\n",
      "couldn't kill that little boy. No one knows why, or how, but they're saying that\n",
      "when he couldn't kill Harry Potter, Voldemort's power somehow broke\n",
      "that's why he's gone.\"\n",
      "Dumbledore nodded glumly.\n",
      "and\n",
      "\"It's — it's true?\" faltered Professor McGonagall. \"After all he's done...\n",
      "all the people he's killed...he couldn't kill a little boy? It's just astounding...of\n",
      "all the things to stop him…..but how in the name of heaven did Harry survive?\"\n",
      "\"We can only guess.\" said Dumbledore. \"We may never know.\"\n",
      "Professor McGonagall pulled out a lace handkerchief and dabbed at her\n",
      "eyes beneath her spectacles. Dumbledore gave a great sniff as he took a golden\n",
      "watch from his pocket and examined it. It was a very odd watch. It had twelve\n",
      "hands but no numbers; instead, little planets were moving around the edge. It\n",
      "must have made sense to Dumbledore, though, because he put it back in his\n",
      "pocket and said, “Hagrid's late. I suppose it was he who told you I'd be here, by\n",
      "the way?\"\n",
      "\"Yes,\" said Professor McGonagall. “And I don't suppose you're going to\n",
      "tell me why you're here, of all places?”\n",
      "\"I've come to bring Harry to his aunt and uncle. They're the only family\n",
      "he has left now.\"\n",
      "-\n",
      "\"You don't mean - you can't mean the people who live here?\" cried\n",
      "Professor McGonagall, jumping to her feet and pointing at number four.\n",
      "\"Dumbledore you can't. I've been watching them all day. You couldn't find\n",
      "two people who are less like us. And they've got this son · I saw him kicking\n",
      "his mother all the way up the street, screaming for sweets. Harry Potter come\n",
      "and live here!\"\n",
      "\"It's the best place for him,” said Dumbledore firmly. “His aunt and\n",
      "uncle will be able to explain everything to him when he's older. I've written\n",
      "them a letter.\"\n",
      "-\n",
      "-\n",
      "\"A letter?\" repeated Professor McGonagall faintly, sitting back down on\n",
      "the wall. \"Really, Dumbledore, you think you can explain all this in a letter?\n",
      "These people will never understand him! He'll be famous a legend I\n",
      "wouldn't be surprised if today was known as Harry Potter day in the future\n",
      "there will be books written about Harry every child in our world will know\n",
      "his name!\"\n",
      "-\n",
      "\"Exactly.\" said Dumbledore, looking very seriously over the top of his\n",
      "half-moon glasses. \"It would be enough to turn any boy's head. Famous before\n",
      "he can walk and talk! Famous for something he won't even remember! Can you\n",
      "see how much better off he'll be, growing up away from all that until he's ready\n",
      "to take it?\"\n",
      "Professor McGonagall opened her mouth, changed her mind, swallowed,\n",
      "and then said, \"Yes yes, you're right, of course. But how is the boy getting\n",
      "here, Dumbledore?\" She eyed his cloak suddenly as though she thought he might\n",
      "be hiding Harry underneath it.\n",
      "\"Hagrid's bringing him.”\n",
      "\"You think it\n",
      "this?\"\n",
      "-\n",
      "wise to trust Hagrid with something as important as\n",
      "\"I would trust Hagrid with my life,” said Dumbledore.\n",
      "\"I'm not saying his heart isn't in the right place,\" said Professor\n",
      "McGonagall grudgingly, “but you can't pretend he's not careless. He does tend\n",
      "to what was that?\"\n",
      "-\n",
      "A low rumbling sound had broken the silence around them. It grew\n",
      "steadily louder as they looked up and down the street for some sign of a\n",
      "headlight; it swelled to a roar as they both looked up at the sky - and a huge\n",
      "motorcycle fell out of the air and landed on the road in front of them.\n",
      "If the motorcycle was huge, it was nothing to the man sitting astride it.\n",
      "He was almost twice as tall as a normal man and at least five times as wide. He\n",
      "looked simply too big to be allowed, and so wild - long tangles of bushy black\n",
      "hair and beard hid most of his face, he had hands the size of trash can lids, and\n",
      "his feet in their leather boots were like baby dolphins. In his vast, muscular arms\n",
      "he was holding a bundle of blankets.\n",
      "\"Hagrid,\" said Dumbledore, sounding relieved. “At last. And where did\n",
      "you get that motorcycle?\"\n",
      "\"Borrowed it, Professor Dumbledore, sir,\" said the giant, climbing\n",
      "carefully off the motorcycle as he spoke. \"Young Sirius Black lent it to me. I've\n",
      "got him, sir.\"\n",
      "\"No problems, were there?\"\n",
      "_\n",
      "\"No, sir house was almost destroyed, but I got him out all right before\n",
      "the Muggles started swarmin' around. He fell asleep as we was flyin' over\n",
      "Bristol.\"\n",
      "Dumbledore and Professor McGonagall bent forward over the bundle of\n",
      "blankets. Inside, just visible, was a baby boy, fast asleep. Under a tuft of jet-\n",
      "black hair over his forehead they could see a curiously shaped cut, like a bolt of\n",
      "lightning.\n",
      "\"Is that where?\" whispered Professor McGonagall.\n",
      "\"Yes,\" said Dumbledore. “He'll have that scar forever.\"\n",
      "\"Couldn't you do something about it, Dumbledore?\"\n",
      "\"Even if I could, I wouldn't. Scars can come in handy. I have one myself\n",
      "above my left knee that is a perfect map of the London Underground. Well\n",
      "give him here, Hagrid we'd better get this over with.\"\n",
      "house.\n",
      "Dumbledore took Harry in his arms and turned toward the Dursleys'\n",
      "-\n",
      "\"Could I could I say good-bye to him, sir?\" asked Hagrid. He bent his\n",
      "great, shaggy head over Harry and gave him what must have been a very\n",
      "scratchy, whiskery kiss. Then, suddenly, Hagrid let out a howl like a wounded\n",
      "dog.\n",
      "\"Shhh!\" hissed Professor McGonagall, “You'll wake the Muggles!\"\n",
      "\"S-s-sorry,\" sobbed Hagrid, taking out a large, spotted handkerchief and\n",
      "burying his face in it. “But I c-c-can't stand it —Lily an' James dead\n",
      "an' poor\n",
      "little Harry off ter live with Muggles —”\n",
      "-\n",
      "\"Yes, yes, it's all very sad, but get a grip on yourself, Hagrid, or we'll be\n",
      "found,\" Professor McGonagall whispered, patting Hagrid gingerly on the arm as\n",
      "Dumbledore stepped over the low garden wall and walked to the front door. He\n",
      "laid Harry gently on the doorstep, took a letter out of his cloak, tucked it inside\n",
      "Harry's blankets, and then came back to the other two. For a full minute the\n",
      "three of them stood and looked at the little bundle; Hagrid's shoulders shook,\n",
      "Professor McGonagall blinked furiously, and the twinkling light that usually\n",
      "shone from Dumbledore's eyes seemed to have gone out.\n",
      "\"Well,\" said Dumbledore finally, “that's that. We've no business staying\n",
      "here. We may as well go and join the celebrations.\"\n",
      "“Yeah,” said Hagrid in a very muffled voice, “I'll be takin' Sirius his bike\n",
      "back. G'night, Professor McGonagall - Professor Dumbledore, sir.\"\n",
      "Wiping his streaming eyes on his jacket sleeve, Hagrid swung himself\n",
      "onto the motorcycle and kicked the engine into life; with a roar it rose into the\n",
      "air and off into the night.\n",
      "\"I shall see you soon, I expect, Professor McGonagall,” said\n",
      "Dumbledore, nodding to her. Professor McGonagall blew her nose in reply.\n",
      "Dumbledore turned and walked back down the street. On the corner he\n",
      "stopped and took out the silver Put-Outer. He clicked it once, and twelve balls of\n",
      "light sped back to their street lamps so that Privet Drive glowed suddenly orange\n",
      "and he could make out a tabby cat slinking around the corner at the other end of\n",
      "the street. He could just see the bundle of blankets on the step of number four.\n",
      "\"Good luck, Harry,\" he murmured. He turned on his heel and with a\n",
      "swish of his cloak, he was gone.\n",
      "A breeze ruffled the neat hedges of Privet Drive, which lay silent and tidy\n",
      "under the inky sky, the very last place you would expect astonishing things to\n",
      "happen. Harry Potter rolled over inside his blankets without waking up. One\n",
      "small hand closed on the letter beside him and he slept on, not knowing he was\n",
      "special, not knowing he was famous, not knowing he would be woken in a few\n",
      "hours' time by Mrs. Dursley's scream as she opened the front door to put out the\n",
      "milk bottles, nor that he would spend the next few weeks being prodded and\n",
      "pinched by his cousin Dudley....He couldn't know that at this very moment,\n",
      "people meeting in secret all over the country were holding up their glasses and\n",
      "saying in hushed voices: \"To Harry Potter the boy who lived!\"\n",
      "HP 1 - Harry Potter and the\n",
      "Sorcerer's Stone\n",
      "CHAPTER TWO\n",
      "THE VANISHING GLASS\n",
      "N early ten years had passed since the Dursleys had woken up to find their\n",
      "nephew on the front step, but Privet Drive had hardly changed at all. The sun\n",
      "rose on the same tidy front gardens and lit up the brass number four on the\n",
      "Dursleys' front door; it crept into their living room, which was almost exactly\n",
      "the same as it had been on the night when Mr. Dursley had seen that fateful news\n",
      "report about the owls. Only the photographs on the mantelpiece really showed\n",
      "how much time had passed. Ten years ago, there had been lots of pictures of\n",
      "what looked like a large pink beach ball wearing different-colored bonnets -\n",
      "but Dudley Dursley was no longer a baby, and now the photographs showed a\n",
      "large blond boy riding his first bicycle, on a carousel at the fair, playing a\n",
      "computer game with his father, being hugged and kissed by his mother. The\n",
      "room held no sign at all that another boy lived in the house, too.\n",
      "Yet Harry Potter was still there, asleep at the moment, but not for long.\n",
      "His Aunt Petunia was awake and it was her shrill voice that made the first noise\n",
      "of the day.\n",
      "\"Up! Get up! Now!\"\n",
      "Harry woke with a start. His aunt rapped on the door again.\n",
      "\"Up!\" she screeched. Harry heard her walking toward the kitchen and\n",
      "then the sound of the frying pan being put on the stove. He rolled onto his back\n",
      "and tried to remember the dream he had been having. It had been a good one.\n",
      "There had been a flying motorcycle in it. He had a funny feeling he'd had the\n",
      "same dream before.\n",
      "His aunt was back outside the door.\n",
      "\"Are you up yet?\" she demanded.\n",
      "\"Nearly,\" said Harry.\n",
      "\"Well, get a move on, I want you to look after the bacon. And don't you\n",
      "dare let it burn, I want everything perfect on Duddy's birthday.\"\n",
      "Harry groaned.\n",
      "\"What did you say?” his aunt snapped through the door.\n",
      "\"Nothing, nothing...\"\n",
      "Dudley's birthday - how could he have forgotten? Harry got slowly out\n",
      "of bed and started looking for socks. He found a pair under his bed and, after\n",
      "pulling a spider off one of them, put them on. Harry was used to spiders, because\n",
      "the cupboard under the stairs was full of them, and that was where he slept.\n",
      "When he was dressed he went down the hall into the kitchen. The table\n",
      "was almost hidden beneath all Dudley's birthday presents. It looked as though\n",
      "Dudley had gotten the new computer he wanted, not to mention the second\n",
      "television and the racing bike. Exactly why Dudley wanted a racing bike was a\n",
      "mystery to Harry, as Dudley was very fat and hated exercise unless of course\n",
      "it involved punching somebody. Dudley's favorite punching bag was Harry, but\n",
      "he couldn't often catch him. Harry didn't look it, but he was very fast.\n",
      "Perhaps it had something to do with living in a dark cupboard, but Harry\n",
      "had always been small and skinny for his age. He looked even smaller and\n",
      "skinnier than he really was because all he had to wear were old clothes of\n",
      "Dudley's, and Dudley was about four times bigger than he was. Harry had a thin\n",
      "face, knobbly knees, black hair, and bright green eyes. He wore round glasses\n",
      "held together with a lot of Scotch tape because of all the times Dudley had\n",
      "punched him on the nose. The only thing Harry liked about his own appearance\n",
      "was a very thin scar on his forehead that was shaped like a bolt of lightning. He\n",
      "had had it as long as he could remember, and the first question he could ever\n",
      "remember asking his Aunt Petunia was how he had gotten it.\n",
      "\"In the car crash when your parents died,” she had said. “And don't ask\n",
      "questions.\"\n",
      "Dursleys.\n",
      "Don't ask questions that was the first rule for a quiet life with the\n",
      "Uncle Vernon entered the kitchen as Harry was turning over the bacon.\n",
      "\"Comb your hair!\" he barked, by way of a morning greeting.\n",
      "About once a week, Uncle Vernon looked over the top of his newspaper\n",
      "and shouted that Harry needed a haircut. Harry must have had more haircuts than\n",
      "the rest of the boys in his class put together, but it made no difference, his hair\n",
      "simply grew that way all over the place.\n",
      "Harry was frying eggs by the time Dudley arrived in the kitchen with his\n",
      "mother. Dudley looked a lot like Uncle Vernon. He had a large pink face, not\n",
      "much neck, small, watery blue eyes, and thick blond hair that lay smoothly on\n",
      "his thick, fat head. Aunt Petunia often said that Dudley looked like a baby angel\n",
      "Harry often said that Dudley looked like a pig in a wig.\n",
      "Harry put the plates of egg and bacon on the table, which was difficult as\n",
      "there wasn't much room. Dudley, meanwhile, was counting his presents. His\n",
      "face fell.\n",
      "\"Thirty-six,\" he said, looking up at his mother and father. \"That's two\n",
      "less than last year.\"\n",
      "“Darling, you haven't counted Auntie Marge's present, see, it's here\n",
      "under this big one from Mummy and Daddy.\"\n",
      "\"All right, thirty-seven then,\" said Dudley, going red in the face. Harry,\n",
      "who could see a huge Dudley tantrum coming on, began wolfing down his bacon\n",
      "as fast as possible in case Dudley turned the table over.\n",
      "Aunt Petunia obviously scented danger, too, because she said quickly,\n",
      "\"And we'll buy you another two presents while we're out today. How's that,\n",
      "popkin? Two more presents. Is that all right\"\n",
      "Dudley thought for a moment. It looked like hard work. Finally he said\n",
      "slowly, \"So I'll have thirty...thirty...\"\n",
      "then.\"\n",
      "\"Thirty-nine, sweetums,\" said Aunt Petunia.\n",
      "\"Oh.\" Dudley sat down heavily and grabbed the nearest parcel. “All right\n",
      "Uncle Vernon chuckled.\n",
      "\"Little tyke wants his money's worth, just like his father. 'Atta boy,\n",
      "Dudley!\" He ruffled Dudley's hair.\n",
      "At that moment the telephone rang and Aunt Petunia went to answer it\n",
      "while Harry and Uncle Vernon watched Dudley unwrap the racing bike, a video\n",
      "camera, a remote control airplane, sixteen new computer games, and a VCR. He\n",
      "was ripping the paper off a gold wristwatch when Aunt Petunia came back from\n",
      "the telephone looking both angry and worried.\n",
      "\"Bad news, Vernon,” she said. “Mrs. Figg's broken her leg. She can't\n",
      "take him.” She jerked her head in Harry's direction.\n",
      "Dudley's mouth fell open in horror, but Harry's heart gave a leap. Every\n",
      "year on Dudley's birthday, his parents took him and a friend out for the day, to\n",
      "adventure parks, hamburger restaurants, or the movies. Every year, Harry was\n",
      "left behind with Mrs. Figg, a mad old lady who lived two streets away. Harry\n",
      "hated it there. The whole house smelled of cabbage and Mrs. Figg made him\n",
      "look at photographs of all the cats she'd ever owned.\n",
      "\"Now what?\" said Aunt Petunia, looking furiously at Harry as though\n",
      "he'd planned this. Harry knew he ought to feel sorry that Mrs. Figg had broken\n",
      "her leg, but it wasn't easy when he reminded himself it would be a whole year\n",
      "before he had to look at Tibbles, Snowy, Mr. Paws, and Tufty again.\n",
      "\"We could phone Marge,\" Uncle Vernon suggested.\n",
      "\"Don't be silly, Vernon, she hates the boy.\"\n",
      "The Dursleys often spoke about Harry like this, as though he wasn't there\n",
      "or rather, as though he was something very nasty that couldn't understand\n",
      "them, like a slug.\n",
      "\"What about what's-her-name, your friend\n",
      "_\n",
      "Yvonne?\"\n",
      "\n"
     ]
    }
   ],
   "source": [
    "from google.api_core.client_options import ClientOptions\n",
    "from google.cloud import documentai\n",
    "\n",
    "\n",
    "# PROJECT_ID = \"YOUR_PROJECT_ID\"\n",
    "GCP_PROJECT= PROJECT_ID #'cloud-llm-preview1'\n",
    "LOCATION = \"us\"  # Format is 'us' or 'eu'\n",
    "PROCESSOR_ID = PROCESSOR_ID  # Create processor in Cloud Console\n",
    "GCP_REGION=\"asia-southeast1\"\n",
    "\n",
    "# The local file in your current working directory\n",
    "FILE_PATH = f\"{FOLDER_NAME}/books/Book1_HarryPotter_and_the_Sorcerers_Stone_pg15.pdf\"\n",
    "# Refer to https://cloud.google.com/document-ai/docs/file-types\n",
    "# for supported file types\n",
    "MIME_TYPE = \"application/pdf\"\n",
    "\n",
    "# Instantiates a client\n",
    "docai_client = documentai.DocumentProcessorServiceClient(\n",
    "    client_options=ClientOptions(api_endpoint=f\"{LOCATION}-documentai.googleapis.com\")\n",
    ")\n",
    "\n",
    "# The full resource name of the processor, e.g.:\n",
    "# projects/project-id/locations/location/processor/processor-id\n",
    "# You must create new processors in the Cloud Console first\n",
    "RESOURCE_NAME = docai_client.processor_path(PROJECT_ID, LOCATION, PROCESSOR_ID)\n",
    "\n",
    "# Read the file into memory\n",
    "with open(FILE_PATH, \"rb\") as image:\n",
    "    image_content = image.read()\n",
    "\n",
    "# Load Binary Data into Document AI RawDocument Object\n",
    "raw_document = documentai.RawDocument(content=image_content, mime_type=MIME_TYPE)\n",
    "\n",
    "# Configure the process request\n",
    "request = documentai.ProcessRequest(name=RESOURCE_NAME, raw_document=raw_document)\n",
    "\n",
    "# Use the Document AI client to process the sample form\n",
    "result = docai_client.process_document(request=request)\n",
    "\n",
    "document_object = result.document\n",
    "print(\"Document processing complete.\")\n",
    "print(f\"Text: {document_object.text}\")\n",
    "\n",
    "page_text =document_object.text"
   ]
  },
  {
   "cell_type": "markdown",
   "id": "cbf82e79-2d0f-45c3-9d09-24f071bc2a1b",
   "metadata": {},
   "source": [
    "### Running though the batch mode for procssing the full Books"
   ]
  },
  {
   "cell_type": "code",
   "execution_count": 24,
   "id": "a6b3aacd-e5f5-41a5-af02-2b1ec5218738",
   "metadata": {
    "tags": []
   },
   "outputs": [],
   "source": [
    "import re\n",
    "from typing import Optional\n",
    "\n",
    "from google.api_core.client_options import ClientOptions\n",
    "from google.api_core.exceptions import InternalServerError\n",
    "from google.api_core.exceptions import RetryError\n",
    "from google.cloud import documentai  # type: ignore\n",
    "from google.cloud import storage\n",
    "\n",
    "def batch_process_documents(\n",
    "    project_id: str,\n",
    "    location: str,\n",
    "    processor_id: str,\n",
    "    gcs_output_uri: str,\n",
    "    processor_version_id: Optional[str] = None,\n",
    "    gcs_input_uri: Optional[str] = None,\n",
    "    input_mime_type: Optional[str] = None,\n",
    "    gcs_input_prefix: Optional[str] = None,\n",
    "    field_mask: Optional[str] = None,\n",
    "    timeout: int = 4000000000,\n",
    ") -> None:\n",
    "    # You must set the `api_endpoint` if you use a location other than \"us\".\n",
    "    opts = ClientOptions(api_endpoint=f\"{location}-documentai.googleapis.com\")\n",
    "\n",
    "    client = documentai.DocumentProcessorServiceClient(client_options=opts)\n",
    "\n",
    "    if gcs_input_uri:\n",
    "        # Specify specific GCS URIs to process individual documents\n",
    "        gcs_document = documentai.GcsDocument(\n",
    "            gcs_uri=gcs_input_uri, mime_type=input_mime_type\n",
    "        )\n",
    "        # Load GCS Input URI into a List of document files\n",
    "        gcs_documents = documentai.GcsDocuments(documents=[gcs_document])\n",
    "        input_config = documentai.BatchDocumentsInputConfig(gcs_documents=gcs_documents)\n",
    "    else:\n",
    "        # Specify a GCS URI Prefix to process an entire directory\n",
    "        gcs_prefix = documentai.GcsPrefix(gcs_uri_prefix=gcs_input_prefix)\n",
    "        input_config = documentai.BatchDocumentsInputConfig(gcs_prefix=gcs_prefix)\n",
    "\n",
    "    # Cloud Storage URI for the Output Directory\n",
    "    gcs_output_config = documentai.DocumentOutputConfig.GcsOutputConfig(\n",
    "        gcs_uri=gcs_output_uri, field_mask=field_mask\n",
    "    )\n",
    "\n",
    "    # Where to write results\n",
    "    output_config = documentai.DocumentOutputConfig(gcs_output_config=gcs_output_config)\n",
    "\n",
    "    if processor_version_id:\n",
    "        # The full resource name of the processor version, e.g.:\n",
    "        # projects/{project_id}/locations/{location}/processors/{processor_id}/processorVersions/{processor_version_id}\n",
    "        name = client.processor_version_path(\n",
    "            project_id, location, processor_id, processor_version_id\n",
    "        )\n",
    "    else:\n",
    "        # The full resource name of the processor, e.g.:\n",
    "        # projects/{project_id}/locations/{location}/processors/{processor_id}\n",
    "        name = client.processor_path(project_id, location, processor_id)\n",
    "\n",
    "    request = documentai.BatchProcessRequest(\n",
    "        name=name,\n",
    "        input_documents=input_config,\n",
    "        document_output_config=output_config,\n",
    "    )\n",
    "\n",
    "    # BatchProcess returns a Long Running Operation (LRO)\n",
    "    operation = client.batch_process_documents(request)\n",
    "\n",
    "    # Continually polls the operation until it is complete.\n",
    "    # This could take some time for larger files\n",
    "    # Format: projects/{project_id}/locations/{location}/operations/{operation_id}\n",
    "    try:\n",
    "        print(f\"Waiting for operation {operation.operation.name} to complete...\")\n",
    "        operation.result(timeout=timeout)\n",
    "    # Catch exception when operation doesn't finish before timeout\n",
    "    except (RetryError, InternalServerError) as e:\n",
    "        print(e.message)\n",
    "\n",
    "    # Once the operation is complete,\n",
    "    # get output document information from operation metadata\n",
    "    metadata = documentai.BatchProcessMetadata(operation.metadata)\n",
    "\n",
    "    if metadata.state != documentai.BatchProcessMetadata.State.SUCCEEDED:\n",
    "        raise ValueError(f\"Batch Process Failed: {metadata.state_message}\")\n",
    "\n",
    "    storage_client = storage.Client()\n",
    "\n",
    "    print(\"Output files:\")\n",
    "    # One process per Input Document\n",
    "    for process in list(metadata.individual_process_statuses):\n",
    "        # output_gcs_destination format: gs://BUCKET/PREFIX/OPERATION_NUMBER/INPUT_FILE_NUMBER/\n",
    "        # The Cloud Storage API requires the bucket name and URI prefix separately\n",
    "        matches = re.match(r\"gs://(.*?)/(.*)\", process.output_gcs_destination)\n",
    "        if not matches:\n",
    "            print(\n",
    "                \"Could not parse output GCS destination:\",\n",
    "                process.output_gcs_destination,\n",
    "            )\n",
    "            continue\n",
    "\n",
    "        output_bucket, output_prefix = matches.groups()\n",
    "\n",
    "        # Get List of Document Objects from the Output Bucket\n",
    "        output_blobs = storage_client.list_blobs(output_bucket, prefix=output_prefix)\n",
    "\n",
    "        # Document AI may output multiple JSON files per source file\n",
    "        for blob in output_blobs:\n",
    "            # Document AI should only output JSON files to GCS\n",
    "            if blob.content_type != \"application/json\":\n",
    "                print(\n",
    "                    f\"Skipping non-supported file: {blob.name} - Mimetype: {blob.content_type}\"\n",
    "                )\n",
    "                continue\n",
    "\n",
    "            # Download JSON File as bytes object and convert to Document Object\n",
    "            print(f\"Fetching {blob.name}\")\n",
    "            document = documentai.Document.from_json(\n",
    "                blob.download_as_bytes(), ignore_unknown_fields=True\n",
    "            )\n",
    "\n",
    "            # For a full list of Document object attributes, please reference this page:\n",
    "            # https://cloud.google.com/python/docs/reference/documentai/latest/google.cloud.documentai_v1.types.Document\n",
    "            \n",
    "            # Read the text recognition output from the processor \n",
    "            print(\"The document contains the following text:\")\n",
    "            print(document.text)\n",
    "            \n",
    "        return(document.text)\n"
   ]
  },
  {
   "cell_type": "code",
   "execution_count": 49,
   "id": "32a187c1-bd4c-4e33-8e73-c3f173a7144e",
   "metadata": {
    "tags": []
   },
   "outputs": [],
   "source": [
    "import os\n",
    "\n",
    "def get_pdf_files(folder_path):\n",
    "    \"\"\"\n",
    "    Reads all files in a folder and returns a list of PDF files only.\n",
    "    Args:\n",
    "        folder_path: The path to the folder.\n",
    "    Returns:\n",
    "        A list of PDF file paths.\n",
    "    \"\"\"\n",
    "\n",
    "    pdf_files = []\n",
    "    for filename in os.listdir(folder_path):\n",
    "        if filename.endswith(\".pdf\"):\n",
    "            pdf_files.append(filename)\n",
    "            \n",
    "    gcs_pdf_files = [f\"{GCS_BUCKET_URI}/{file}\" for file in pdf_files]\n",
    "\n",
    "    return(gcs_pdf_files)"
   ]
  },
  {
   "cell_type": "code",
   "execution_count": 25,
   "id": "b3901ff9-32cc-4dc2-8316-50d1e80789e8",
   "metadata": {
    "tags": []
   },
   "outputs": [],
   "source": [
    "import asyncio\n",
    "import time\n",
    "import re\n",
    "\n",
    "async def my_async_function():\n",
    "    # Your asynchronous code here\n",
    "    await asyncio.sleep(5)  # Placeholder for some asynchronous task\n",
    "    print(\"Async function completed\")\n",
    "\n",
    "# Trigger the function asynchronously\n",
    "async def trigger_async_function():\n",
    "    await my_async_function()\n",
    "\n",
    "asyncio.create_task(trigger_async_function())\n",
    "\n",
    "\n",
    "def save_text_to_file(text, filename):\n",
    "    pattern = r\".*/([^/.]+)\\.pdf\"\n",
    "\n",
    "    # Extract the filename\n",
    "    match = re.search(pattern, filename)\n",
    "    if match:\n",
    "        filename = match.group(1)\n",
    "        print(filename + \" has been processed successfully.\\n\")  # Output ex: Book4_The_Goblet_of_Fire\n",
    "    else:\n",
    "        print(\"No match found\")\n",
    "    \n",
    "    filename_txt = f'{FOLDER_NAME}/results/' + filename + \".txt\"\n",
    "    with open(filename_txt, 'w', encoding='utf-8') as f:\n",
    "        f.write(text)"
   ]
  },
  {
   "cell_type": "code",
   "execution_count": null,
   "id": "3839fca8-391d-44a3-ade1-28396ccd331a",
   "metadata": {
    "scrolled": true,
    "tags": []
   },
   "outputs": [
    {
     "name": "stdout",
     "output_type": "stream",
     "text": [
      "['gs://my-project-0004-346516-singhealth/Winnie_the_Pooh_3_Pages.pdf', 'gs://my-project-0004-346516-singhealth/Book1_HarryPotter_and_the_Sorcerers_Stone_pg15.pdf']\n",
      "gs://my-project-0004-346516-singhealth/Winnie_the_Pooh_3_Pages.pdf:\n",
      "\n",
      "Waiting for operation projects/255766800726/locations/us/operations/8136127822156390750 to complete...\n"
     ]
    }
   ],
   "source": [
    "# PROJECT_ID = \"YOUR_PROJECT_ID\"\n",
    "GCP_PROJECT= PROJECT_ID #'cloud-llm-preview1'\n",
    "LOCATION = location = \"us\"  # Format is 'us' or 'eu'\n",
    "project_id=PROJECT_ID\n",
    "processor_id=PROCESSOR_ID\n",
    "\n",
    "# The local file in your current working directory\n",
    "FILE_PATH = f\"{FOLDER_NAME}/books/Book1_The_Sorcerers_Stone.pdf\"\n",
    "# Refer to https://cloud.google.com/document-ai/docs/file-types\n",
    "# for supported file types\n",
    "\n",
    "# TODO(developer): Uncomment these variables before running the sample.\n",
    "gcs_output_uri = f\"{GCS_BUCKET_URI}/\" # Must end with a trailing slash `/`. Format: gs://bucket/directory/subdirectory/\n",
    "# processor_version_id = \"\" # Optional. Example: pretrained-ocr-v1.0-2020-09-23\n",
    "\n",
    "# TODO(developer): You must specify either `gcs_input_uri` and `mime_type` or `gcs_input_prefix`\n",
    "gcs_input_uri = f\"{GCS_BUCKET_URI}/Book1_The_Sorcerers_Stone.pdf\" # Format: gs://bucket/directory/file.pdf\n",
    "MIME_TYPE = input_mime_type = \"application/pdf\"\n",
    "\n",
    "gcs_input_prefix = f\"{GCS_BUCKET_URI}/matchingengine/\" # Format: gs://bucket/directory/\n",
    "field_mask = \"text,entities,pages.pageNumber\"  # Optional. The fields to return in the Document object.\n",
    "timeout = 400000\n",
    "\n",
    "folder_path = \"./genai_03/books/\"\n",
    "\n",
    "book_list = get_pdf_files(folder_path)\n",
    "print(book_list)\n",
    "\n",
    "# book_list = [f\"{GCS_BUCKET_URI}/Winnie_the_Pooh_3_Pages.pdf\",\n",
    "#              f\"{GCS_BUCKET_URI}/Book2_The_Chamber_of_Secrets.pdf\",\n",
    "#              f\"{GCS_BUCKET_URI}/Book3_The_Prisoner_of_Azkaban.pdf\",\n",
    "#              f\"{GCS_BUCKET_URI}/Book4_The_Goblet_of_Fire.pdf\",\n",
    "#              f\"{GCS_BUCKET_URI}/Book5_The_Order_of_the_Phoenix.pdf\",\n",
    "#              f\"{GCS_BUCKET_URI}/Book6_The_HalfBlood_Prince.pdf\",\n",
    "#              f\"{GCS_BUCKET_URI}/Book7_The_Deathly_Hallows.pdf\",]\n",
    "\n",
    "\n",
    "try: \n",
    "    for i in range(0,len(book_list)): \n",
    "        gcs_input_uri = book_list[i]\n",
    "        print(gcs_input_uri + \":\\n\")\n",
    "\n",
    "        page_text_batch = batch_process_documents(   project_id,\n",
    "            location,\n",
    "            processor_id,\n",
    "            gcs_output_uri,\n",
    "            None,\n",
    "            gcs_input_uri,\n",
    "            input_mime_type,\n",
    "            gcs_input_prefix,\n",
    "            field_mask,\n",
    "            timeout)\n",
    "\n",
    "        # Example usage: my_text = \"This is the text from your OCR process.\"\n",
    "\n",
    "        save_text_to_file(page_text_batch, gcs_input_uri)\n",
    "        time.sleep(0.1)\n",
    "except :\n",
    "    print(\"\"\"Run this again - click on restart kernel and Run everything if you want to test doc AI part \n",
    "          --- Here are the steps :\n",
    "          1. Look at the menu and go to kernel\n",
    "          2. Click the 5th option Restart Kernel and run everything \n",
    "          \"\"\")"
   ]
  },
  {
   "cell_type": "markdown",
   "id": "e5b05e71-ad9d-4850-a3c4-f783222d63b1",
   "metadata": {},
   "source": [
    "## Done"
   ]
  },
  {
   "cell_type": "markdown",
   "id": "2b71d65a-e393-4af9-8716-b4c836311d1b",
   "metadata": {
    "tags": []
   },
   "source": [
    "#### Here is the documenation for DOC ai https://cloud.google.com/document-ai/docs/samples/documentai-batch-process-document?hl=en\n"
   ]
  },
  {
   "cell_type": "code",
   "execution_count": 27,
   "id": "4f33b95e-c997-4d52-b07c-be8b266da2a0",
   "metadata": {
    "tags": []
   },
   "outputs": [],
   "source": [
    "# generate an unique id for this session\n",
    "from datetime import datetime\n",
    "\n",
    "UID = datetime.now().strftime(\"%m%d%H%M\")\n",
    "\n",
    "BUCKET_URI_ME=f\"{GCS_BUCKET_URI}/matchingengine/embedding/\"\n",
    "LOCATION = 'asia-southeast1'\n",
    "\n",
    "from google.cloud import aiplatform\n",
    "\n",
    "aiplatform.init(project=PROJECT_ID, location=LOCATION)"
   ]
  },
  {
   "cell_type": "code",
   "execution_count": 28,
   "id": "201cd07b-6263-45cd-8849-5425d53ea89d",
   "metadata": {
    "tags": []
   },
   "outputs": [
    {
     "name": "stdout",
     "output_type": "stream",
     "text": [
      "CommandException: No URLs matched: questions_test.json\n"
     ]
    }
   ],
   "source": [
    "! gsutil cp questions_test.json {BUCKET_URI_ME}"
   ]
  },
  {
   "cell_type": "code",
   "execution_count": 29,
   "id": "4679b3d5-4a07-490a-94e6-9de1a960f692",
   "metadata": {
    "tags": []
   },
   "outputs": [
    {
     "name": "stdout",
     "output_type": "stream",
     "text": [
      "CommandException: One or more URLs matched no objects.\n"
     ]
    }
   ],
   "source": [
    "! gsutil ls {BUCKET_URI_ME}"
   ]
  },
  {
   "cell_type": "code",
   "execution_count": 30,
   "id": "8f71e82a-46d0-4bd7-9b7c-6a6c8daeb40b",
   "metadata": {
    "scrolled": true,
    "tags": []
   },
   "outputs": [
    {
     "name": "stderr",
     "output_type": "stream",
     "text": [
      "INFO:google.cloud.aiplatform.matching_engine.matching_engine_index:Creating MatchingEngineIndex\n",
      "INFO:google.cloud.aiplatform.matching_engine.matching_engine_index:Create MatchingEngineIndex backing LRO: projects/255766800726/locations/asia-southeast1/indexes/827448470599106560/operations/2283002854169903104\n",
      "INFO:google.cloud.aiplatform.matching_engine.matching_engine_index:MatchingEngineIndex created. Resource name: projects/255766800726/locations/asia-southeast1/indexes/827448470599106560\n",
      "INFO:google.cloud.aiplatform.matching_engine.matching_engine_index:To use this MatchingEngineIndex in another session:\n",
      "INFO:google.cloud.aiplatform.matching_engine.matching_engine_index:index = aiplatform.MatchingEngineIndex('projects/255766800726/locations/asia-southeast1/indexes/827448470599106560')\n"
     ]
    }
   ],
   "source": [
    "# create Index\n",
    "my_index = aiplatform.MatchingEngineIndex.create_tree_ah_index(\n",
    "    display_name=f\"vs-feature-index-{UID}\",\n",
    "    contents_delta_uri=BUCKET_URI_ME,\n",
    "    dimensions=768,\n",
    "    approximate_neighbors_count=10,\n",
    "    project = PROJECT_ID\n",
    ")"
   ]
  },
  {
   "cell_type": "markdown",
   "id": "3d82ee84-4265-478d-a852-7cef90a1daf1",
   "metadata": {
    "tags": []
   },
   "source": [
    "#### Create Index Endpoint and deploy the Index\n",
    "To use the Index, you need to create an Index Endpoint. It works as a server instance accepting query requests for your Index.\n"
   ]
  },
  {
   "cell_type": "code",
   "execution_count": 31,
   "id": "16714e23-2f8c-4153-a9ba-67549975cc6f",
   "metadata": {
    "scrolled": true,
    "tags": []
   },
   "outputs": [
    {
     "name": "stderr",
     "output_type": "stream",
     "text": [
      "INFO:google.cloud.aiplatform.matching_engine.matching_engine_index_endpoint:Creating MatchingEngineIndexEndpoint\n",
      "INFO:google.cloud.aiplatform.matching_engine.matching_engine_index_endpoint:Create MatchingEngineIndexEndpoint backing LRO: projects/255766800726/locations/asia-southeast1/indexEndpoints/2709407757072596992/operations/8984359099697201152\n",
      "INFO:google.cloud.aiplatform.matching_engine.matching_engine_index_endpoint:MatchingEngineIndexEndpoint created. Resource name: projects/255766800726/locations/asia-southeast1/indexEndpoints/2709407757072596992\n",
      "INFO:google.cloud.aiplatform.matching_engine.matching_engine_index_endpoint:To use this MatchingEngineIndexEndpoint in another session:\n",
      "INFO:google.cloud.aiplatform.matching_engine.matching_engine_index_endpoint:index_endpoint = aiplatform.MatchingEngineIndexEndpoint('projects/255766800726/locations/asia-southeast1/indexEndpoints/2709407757072596992')\n"
     ]
    }
   ],
   "source": [
    "# create IndexEndpoint\n",
    "my_index_endpoint = aiplatform.MatchingEngineIndexEndpoint.create(\n",
    "    display_name=f\"vs-feature-index-endpoint-{UID}\", public_endpoint_enabled=True\n",
    ")"
   ]
  },
  {
   "cell_type": "code",
   "execution_count": 32,
   "id": "7b619bbe-ab6e-4b23-94bd-70a7c939cc16",
   "metadata": {
    "scrolled": true,
    "tags": []
   },
   "outputs": [
    {
     "name": "stderr",
     "output_type": "stream",
     "text": [
      "INFO:google.cloud.aiplatform.matching_engine.matching_engine_index_endpoint:Deploying index MatchingEngineIndexEndpoint index_endpoint: projects/255766800726/locations/asia-southeast1/indexEndpoints/2709407757072596992\n",
      "INFO:google.cloud.aiplatform.matching_engine.matching_engine_index_endpoint:Deploy index MatchingEngineIndexEndpoint index_endpoint backing LRO: projects/255766800726/locations/asia-southeast1/indexEndpoints/2709407757072596992/operations/963448163350347776\n"
     ]
    },
    {
     "ename": "KeyboardInterrupt",
     "evalue": "",
     "output_type": "error",
     "traceback": [
      "\u001b[0;31m---------------------------------------------------------------------------\u001b[0m",
      "\u001b[0;31m_OperationNotComplete\u001b[0m                     Traceback (most recent call last)",
      "File \u001b[0;32m/opt/conda/lib/python3.10/site-packages/google/api_core/retry/retry_unary.py:144\u001b[0m, in \u001b[0;36mretry_target\u001b[0;34m(target, predicate, sleep_generator, timeout, on_error, exception_factory, **kwargs)\u001b[0m\n\u001b[1;32m    143\u001b[0m \u001b[38;5;28;01mtry\u001b[39;00m:\n\u001b[0;32m--> 144\u001b[0m     result \u001b[38;5;241m=\u001b[39m \u001b[43mtarget\u001b[49m\u001b[43m(\u001b[49m\u001b[43m)\u001b[49m\n\u001b[1;32m    145\u001b[0m     \u001b[38;5;28;01mif\u001b[39;00m inspect\u001b[38;5;241m.\u001b[39misawaitable(result):\n",
      "File \u001b[0;32m/opt/conda/lib/python3.10/site-packages/google/api_core/future/polling.py:120\u001b[0m, in \u001b[0;36mPollingFuture._done_or_raise\u001b[0;34m(self, retry)\u001b[0m\n\u001b[1;32m    119\u001b[0m \u001b[38;5;28;01mif\u001b[39;00m \u001b[38;5;129;01mnot\u001b[39;00m \u001b[38;5;28mself\u001b[39m\u001b[38;5;241m.\u001b[39mdone(retry\u001b[38;5;241m=\u001b[39mretry):\n\u001b[0;32m--> 120\u001b[0m     \u001b[38;5;28;01mraise\u001b[39;00m _OperationNotComplete()\n",
      "\u001b[0;31m_OperationNotComplete\u001b[0m: ",
      "\nDuring handling of the above exception, another exception occurred:\n",
      "\u001b[0;31mKeyboardInterrupt\u001b[0m                         Traceback (most recent call last)",
      "Cell \u001b[0;32mIn[32], line 3\u001b[0m\n\u001b[1;32m      1\u001b[0m DEPLOYED_INDEX_ID \u001b[38;5;241m=\u001b[39m \u001b[38;5;124mf\u001b[39m\u001b[38;5;124m\"\u001b[39m\u001b[38;5;124mvs_feature_deployed_\u001b[39m\u001b[38;5;132;01m{\u001b[39;00mUID\u001b[38;5;132;01m}\u001b[39;00m\u001b[38;5;124m\"\u001b[39m\n\u001b[1;32m      2\u001b[0m \u001b[38;5;66;03m# deploy the Index to the Index Endpoint\u001b[39;00m\n\u001b[0;32m----> 3\u001b[0m \u001b[43mmy_index_endpoint\u001b[49m\u001b[38;5;241;43m.\u001b[39;49m\u001b[43mdeploy_index\u001b[49m\u001b[43m(\u001b[49m\u001b[43mindex\u001b[49m\u001b[38;5;241;43m=\u001b[39;49m\u001b[43mmy_index\u001b[49m\u001b[43m,\u001b[49m\u001b[43m \u001b[49m\u001b[43mdeployed_index_id\u001b[49m\u001b[38;5;241;43m=\u001b[39;49m\u001b[43mDEPLOYED_INDEX_ID\u001b[49m\u001b[43m)\u001b[49m\n",
      "File \u001b[0;32m/opt/conda/lib/python3.10/site-packages/google/cloud/aiplatform/matching_engine/matching_engine_index_endpoint.py:1086\u001b[0m, in \u001b[0;36mMatchingEngineIndexEndpoint.deploy_index\u001b[0;34m(self, index, deployed_index_id, display_name, machine_type, min_replica_count, max_replica_count, enable_access_logging, reserved_ip_ranges, deployment_group, auth_config_audiences, auth_config_allowed_issuers, request_metadata, deploy_request_timeout)\u001b[0m\n\u001b[1;32m   1075\u001b[0m deploy_lro \u001b[38;5;241m=\u001b[39m \u001b[38;5;28mself\u001b[39m\u001b[38;5;241m.\u001b[39mapi_client\u001b[38;5;241m.\u001b[39mdeploy_index(\n\u001b[1;32m   1076\u001b[0m     index_endpoint\u001b[38;5;241m=\u001b[39m\u001b[38;5;28mself\u001b[39m\u001b[38;5;241m.\u001b[39mresource_name,\n\u001b[1;32m   1077\u001b[0m     deployed_index\u001b[38;5;241m=\u001b[39mdeployed_index,\n\u001b[1;32m   1078\u001b[0m     metadata\u001b[38;5;241m=\u001b[39mrequest_metadata,\n\u001b[1;32m   1079\u001b[0m     timeout\u001b[38;5;241m=\u001b[39mdeploy_request_timeout,\n\u001b[1;32m   1080\u001b[0m )\n\u001b[1;32m   1082\u001b[0m _LOGGER\u001b[38;5;241m.\u001b[39mlog_action_started_against_resource_with_lro(\n\u001b[1;32m   1083\u001b[0m     \u001b[38;5;124m\"\u001b[39m\u001b[38;5;124mDeploy index\u001b[39m\u001b[38;5;124m\"\u001b[39m, \u001b[38;5;124m\"\u001b[39m\u001b[38;5;124mindex_endpoint\u001b[39m\u001b[38;5;124m\"\u001b[39m, \u001b[38;5;28mself\u001b[39m\u001b[38;5;241m.\u001b[39m\u001b[38;5;18m__class__\u001b[39m, deploy_lro\n\u001b[1;32m   1084\u001b[0m )\n\u001b[0;32m-> 1086\u001b[0m \u001b[43mdeploy_lro\u001b[49m\u001b[38;5;241;43m.\u001b[39;49m\u001b[43mresult\u001b[49m\u001b[43m(\u001b[49m\u001b[43mtimeout\u001b[49m\u001b[38;5;241;43m=\u001b[39;49m\u001b[38;5;28;43;01mNone\u001b[39;49;00m\u001b[43m)\u001b[49m\n\u001b[1;32m   1088\u001b[0m _LOGGER\u001b[38;5;241m.\u001b[39mlog_action_completed_against_resource(\n\u001b[1;32m   1089\u001b[0m     \u001b[38;5;124m\"\u001b[39m\u001b[38;5;124mindex_endpoint\u001b[39m\u001b[38;5;124m\"\u001b[39m, \u001b[38;5;124m\"\u001b[39m\u001b[38;5;124mDeployed index\u001b[39m\u001b[38;5;124m\"\u001b[39m, \u001b[38;5;28mself\u001b[39m\n\u001b[1;32m   1090\u001b[0m )\n\u001b[1;32m   1092\u001b[0m \u001b[38;5;66;03m# update local resource\u001b[39;00m\n",
      "File \u001b[0;32m/opt/conda/lib/python3.10/site-packages/google/api_core/future/polling.py:256\u001b[0m, in \u001b[0;36mPollingFuture.result\u001b[0;34m(self, timeout, retry, polling)\u001b[0m\n\u001b[1;32m    144\u001b[0m \u001b[38;5;28;01mdef\u001b[39;00m \u001b[38;5;21mresult\u001b[39m(\u001b[38;5;28mself\u001b[39m, timeout\u001b[38;5;241m=\u001b[39m_DEFAULT_VALUE, retry\u001b[38;5;241m=\u001b[39m\u001b[38;5;28;01mNone\u001b[39;00m, polling\u001b[38;5;241m=\u001b[39m\u001b[38;5;28;01mNone\u001b[39;00m):\n\u001b[1;32m    145\u001b[0m \u001b[38;5;250m    \u001b[39m\u001b[38;5;124;03m\"\"\"Get the result of the operation.\u001b[39;00m\n\u001b[1;32m    146\u001b[0m \n\u001b[1;32m    147\u001b[0m \u001b[38;5;124;03m    This method will poll for operation status periodically, blocking if\u001b[39;00m\n\u001b[0;32m   (...)\u001b[0m\n\u001b[1;32m    253\u001b[0m \u001b[38;5;124;03m            the timeout is reached before the operation completes.\u001b[39;00m\n\u001b[1;32m    254\u001b[0m \u001b[38;5;124;03m    \"\"\"\u001b[39;00m\n\u001b[0;32m--> 256\u001b[0m     \u001b[38;5;28;43mself\u001b[39;49m\u001b[38;5;241;43m.\u001b[39;49m\u001b[43m_blocking_poll\u001b[49m\u001b[43m(\u001b[49m\u001b[43mtimeout\u001b[49m\u001b[38;5;241;43m=\u001b[39;49m\u001b[43mtimeout\u001b[49m\u001b[43m,\u001b[49m\u001b[43m \u001b[49m\u001b[43mretry\u001b[49m\u001b[38;5;241;43m=\u001b[39;49m\u001b[43mretry\u001b[49m\u001b[43m,\u001b[49m\u001b[43m \u001b[49m\u001b[43mpolling\u001b[49m\u001b[38;5;241;43m=\u001b[39;49m\u001b[43mpolling\u001b[49m\u001b[43m)\u001b[49m\n\u001b[1;32m    258\u001b[0m     \u001b[38;5;28;01mif\u001b[39;00m \u001b[38;5;28mself\u001b[39m\u001b[38;5;241m.\u001b[39m_exception \u001b[38;5;129;01mis\u001b[39;00m \u001b[38;5;129;01mnot\u001b[39;00m \u001b[38;5;28;01mNone\u001b[39;00m:\n\u001b[1;32m    259\u001b[0m         \u001b[38;5;66;03m# pylint: disable=raising-bad-type\u001b[39;00m\n\u001b[1;32m    260\u001b[0m         \u001b[38;5;66;03m# Pylint doesn't recognize that this is valid in this case.\u001b[39;00m\n\u001b[1;32m    261\u001b[0m         \u001b[38;5;28;01mraise\u001b[39;00m \u001b[38;5;28mself\u001b[39m\u001b[38;5;241m.\u001b[39m_exception\n",
      "File \u001b[0;32m/opt/conda/lib/python3.10/site-packages/google/api_core/future/polling.py:137\u001b[0m, in \u001b[0;36mPollingFuture._blocking_poll\u001b[0;34m(self, timeout, retry, polling)\u001b[0m\n\u001b[1;32m    134\u001b[0m     polling \u001b[38;5;241m=\u001b[39m polling\u001b[38;5;241m.\u001b[39mwith_timeout(timeout)\n\u001b[1;32m    136\u001b[0m \u001b[38;5;28;01mtry\u001b[39;00m:\n\u001b[0;32m--> 137\u001b[0m     \u001b[43mpolling\u001b[49m\u001b[43m(\u001b[49m\u001b[38;5;28;43mself\u001b[39;49m\u001b[38;5;241;43m.\u001b[39;49m\u001b[43m_done_or_raise\u001b[49m\u001b[43m)\u001b[49m\u001b[43m(\u001b[49m\u001b[43mretry\u001b[49m\u001b[38;5;241;43m=\u001b[39;49m\u001b[43mretry\u001b[49m\u001b[43m)\u001b[49m\n\u001b[1;32m    138\u001b[0m \u001b[38;5;28;01mexcept\u001b[39;00m exceptions\u001b[38;5;241m.\u001b[39mRetryError:\n\u001b[1;32m    139\u001b[0m     \u001b[38;5;28;01mraise\u001b[39;00m concurrent\u001b[38;5;241m.\u001b[39mfutures\u001b[38;5;241m.\u001b[39mTimeoutError(\n\u001b[1;32m    140\u001b[0m         \u001b[38;5;124mf\u001b[39m\u001b[38;5;124m\"\u001b[39m\u001b[38;5;124mOperation did not complete within the designated timeout of \u001b[39m\u001b[38;5;124m\"\u001b[39m\n\u001b[1;32m    141\u001b[0m         \u001b[38;5;124mf\u001b[39m\u001b[38;5;124m\"\u001b[39m\u001b[38;5;132;01m{\u001b[39;00mpolling\u001b[38;5;241m.\u001b[39mtimeout\u001b[38;5;132;01m}\u001b[39;00m\u001b[38;5;124m seconds.\u001b[39m\u001b[38;5;124m\"\u001b[39m\n\u001b[1;32m    142\u001b[0m     )\n",
      "File \u001b[0;32m/opt/conda/lib/python3.10/site-packages/google/api_core/retry/retry_unary.py:293\u001b[0m, in \u001b[0;36mRetry.__call__.<locals>.retry_wrapped_func\u001b[0;34m(*args, **kwargs)\u001b[0m\n\u001b[1;32m    289\u001b[0m target \u001b[38;5;241m=\u001b[39m functools\u001b[38;5;241m.\u001b[39mpartial(func, \u001b[38;5;241m*\u001b[39margs, \u001b[38;5;241m*\u001b[39m\u001b[38;5;241m*\u001b[39mkwargs)\n\u001b[1;32m    290\u001b[0m sleep_generator \u001b[38;5;241m=\u001b[39m exponential_sleep_generator(\n\u001b[1;32m    291\u001b[0m     \u001b[38;5;28mself\u001b[39m\u001b[38;5;241m.\u001b[39m_initial, \u001b[38;5;28mself\u001b[39m\u001b[38;5;241m.\u001b[39m_maximum, multiplier\u001b[38;5;241m=\u001b[39m\u001b[38;5;28mself\u001b[39m\u001b[38;5;241m.\u001b[39m_multiplier\n\u001b[1;32m    292\u001b[0m )\n\u001b[0;32m--> 293\u001b[0m \u001b[38;5;28;01mreturn\u001b[39;00m \u001b[43mretry_target\u001b[49m\u001b[43m(\u001b[49m\n\u001b[1;32m    294\u001b[0m \u001b[43m    \u001b[49m\u001b[43mtarget\u001b[49m\u001b[43m,\u001b[49m\n\u001b[1;32m    295\u001b[0m \u001b[43m    \u001b[49m\u001b[38;5;28;43mself\u001b[39;49m\u001b[38;5;241;43m.\u001b[39;49m\u001b[43m_predicate\u001b[49m\u001b[43m,\u001b[49m\n\u001b[1;32m    296\u001b[0m \u001b[43m    \u001b[49m\u001b[43msleep_generator\u001b[49m\u001b[43m,\u001b[49m\n\u001b[1;32m    297\u001b[0m \u001b[43m    \u001b[49m\u001b[43mtimeout\u001b[49m\u001b[38;5;241;43m=\u001b[39;49m\u001b[38;5;28;43mself\u001b[39;49m\u001b[38;5;241;43m.\u001b[39;49m\u001b[43m_timeout\u001b[49m\u001b[43m,\u001b[49m\n\u001b[1;32m    298\u001b[0m \u001b[43m    \u001b[49m\u001b[43mon_error\u001b[49m\u001b[38;5;241;43m=\u001b[39;49m\u001b[43mon_error\u001b[49m\u001b[43m,\u001b[49m\n\u001b[1;32m    299\u001b[0m \u001b[43m\u001b[49m\u001b[43m)\u001b[49m\n",
      "File \u001b[0;32m/opt/conda/lib/python3.10/site-packages/google/api_core/retry/retry_unary.py:164\u001b[0m, in \u001b[0;36mretry_target\u001b[0;34m(target, predicate, sleep_generator, timeout, on_error, exception_factory, **kwargs)\u001b[0m\n\u001b[1;32m    153\u001b[0m         _retry_error_helper(\n\u001b[1;32m    154\u001b[0m             exc,\n\u001b[1;32m    155\u001b[0m             deadline,\n\u001b[0;32m   (...)\u001b[0m\n\u001b[1;32m    161\u001b[0m             timeout,\n\u001b[1;32m    162\u001b[0m         )\n\u001b[1;32m    163\u001b[0m         \u001b[38;5;66;03m# if exception not raised, sleep before next attempt\u001b[39;00m\n\u001b[0;32m--> 164\u001b[0m         \u001b[43mtime\u001b[49m\u001b[38;5;241;43m.\u001b[39;49m\u001b[43msleep\u001b[49m\u001b[43m(\u001b[49m\u001b[43msleep\u001b[49m\u001b[43m)\u001b[49m\n\u001b[1;32m    166\u001b[0m \u001b[38;5;28;01mraise\u001b[39;00m \u001b[38;5;167;01mValueError\u001b[39;00m(\u001b[38;5;124m\"\u001b[39m\u001b[38;5;124mSleep generator stopped yielding sleep values.\u001b[39m\u001b[38;5;124m\"\u001b[39m)\n",
      "\u001b[0;31mKeyboardInterrupt\u001b[0m: "
     ]
    }
   ],
   "source": [
    "DEPLOYED_INDEX_ID = f\"vs_feature_deployed_{UID}\"\n",
    "# deploy the Index to the Index Endpoint\n",
    "my_index_endpoint.deploy_index(index=my_index, deployed_index_id=DEPLOYED_INDEX_ID)"
   ]
  },
  {
   "cell_type": "markdown",
   "id": "78a35991-3e36-4c01-bbf3-e6e03664a181",
   "metadata": {},
   "source": [
    "from vertexai.language_models import TextEmbeddingModel### Go to you vertex AI console and check the index is CREATED successfully "
   ]
  },
  {
   "cell_type": "markdown",
   "id": "555c7bef-c1d0-41df-830a-0cf6607eff39",
   "metadata": {},
   "source": [
    "PART 3"
   ]
  },
  {
   "cell_type": "code",
   "execution_count": null,
   "id": "82c8cf62-3686-4b8d-8e46-1d69d6106ebd",
   "metadata": {
    "tags": []
   },
   "outputs": [],
   "source": [
    "import json\n",
    "\n",
    "# build dicts for product names and embs\n",
    "product_names = {}\n",
    "product_embs = {}\n",
    "product_text = {}\n",
    "with open(\"questions_test.json\") as f:\n",
    "    for l in f.readlines():\n",
    "        p = json.loads(l)\n",
    "        id = p[\"id\"]\n",
    "        product_names[id] = p[\"id\"]\n",
    "        product_text[id] = p['splitted_texts_chunks']\n",
    "        product_embs[id] = p[\"embedding\"]"
   ]
  },
  {
   "cell_type": "code",
   "execution_count": null,
   "id": "f9af7516-1e0d-4ed5-a88a-4f15584e51e3",
   "metadata": {
    "tags": []
   },
   "outputs": [],
   "source": [
    "# get the embedding for ID 6523 \"cloudveil women's excursion short\"\n",
    "# you can also try with other IDs such as 12711, 18090, 19536 and 11863\n",
    "query_emb = product_embs[\"0\"]"
   ]
  },
  {
   "cell_type": "code",
   "execution_count": null,
   "id": "f8f50a05-df56-4ed1-9747-926a5a713575",
   "metadata": {
    "tags": []
   },
   "outputs": [],
   "source": [
    "# run query\n",
    "response = my_index_endpoint.find_neighbors(\n",
    "    deployed_index_id=DEPLOYED_INDEX_ID, queries=[query_emb], num_neighbors=3\n",
    ")\n",
    "\n",
    "# show the results\n",
    "for idx, neighbor in enumerate(response[0]):\n",
    "    print(f\"{neighbor.distance:.2f} {product_names[neighbor.id]} {product_text[neighbor.id]}\")"
   ]
  },
  {
   "cell_type": "code",
   "execution_count": null,
   "id": "10c951d3-2d0c-4ba9-a687-9ef0d97318e7",
   "metadata": {
    "tags": []
   },
   "outputs": [],
   "source": [
    "# this setting is obtained from matching ending https://console.cloud.google.com/vertex-ai/locations/asia-southeast1/index-endpoints/3366088877738557440/deployed-indexes/vs_quickstart_deployed_02060053?project=jingle-project-414801\n",
    "\n",
    "\n",
    "from google.cloud import aiplatform_v1\n",
    "\n",
    "# Set variables for the current deployed index.\n",
    "API_ENDPOINT=my_index_endpoint_public_domain\n",
    "INDEX_ENDPOINT=my_index_endpoint_name\n",
    "\n",
    "indexendpoint_id=str(re.search(r'\\d+', my_index_endpoint_display_name).group())\n",
    "\n",
    "DEPLOYED_INDEX_ID=\"vs_feature_deployed_\" + indexendpoint_id\n",
    "neighbor_count = 3\n",
    "\n",
    "print(API_ENDPOINT)\n",
    "print(INDEX_ENDPOINT)\n",
    "print(DEPLOYED_INDEX_ID)"
   ]
  },
  {
   "cell_type": "code",
   "execution_count": null,
   "id": "5fcb2e54-77fe-4a32-9835-8535e5917d17",
   "metadata": {
    "tags": []
   },
   "outputs": [],
   "source": [
    "# Configure Vector Search client\n",
    "client_options = {\n",
    "  \"api_endpoint\": API_ENDPOINT\n",
    "}\n",
    "vector_search_client = aiplatform_v1.MatchServiceClient(\n",
    "  client_options=client_options,\n",
    ")\n",
    "# Build FindNeighborsRequest object\n",
    "datapoint = aiplatform_v1.IndexDatapoint(\n",
    "  feature_vector=test_embeddings\n",
    ")\n",
    "\n",
    "query = aiplatform_v1.FindNeighborsRequest.Query(\n",
    "  datapoint=datapoint,\n",
    "  # The number of nearest neighbors to be retrieved\n",
    "  neighbor_count=neighbor_count\n",
    ")\n",
    "\n",
    "request = aiplatform_v1.FindNeighborsRequest(\n",
    "  index_endpoint=INDEX_ENDPOINT,\n",
    "  deployed_index_id=DEPLOYED_INDEX_ID,\n",
    "  # Request can have multiple queries\n",
    "  queries=[query],\n",
    "  return_full_datapoint=False,\n",
    ")\n",
    "\n",
    "# Execute the request\n",
    "response = vector_search_client.find_neighbors(request)\n",
    "\n",
    "df_new = pd.DataFrame()\n",
    "print('neighbor_count', neighbor_count)\n",
    "for i in range(0,neighbor_count):\n",
    "    x=response.nearest_neighbors[0]\n",
    "    \n",
    "    df_match = df.loc[df['id'] == int(x.neighbors[i].datapoint.datapoint_id) ]\n",
    "\n",
    "    # Append the matching rows to the new DataFrame\n",
    "    df_new = pd.concat([df_new, df_match])\n",
    "\n",
    "# Print the new DataFrame\n",
    "print(df_new)"
   ]
  },
  {
   "cell_type": "code",
   "execution_count": null,
   "id": "05a56cc5-7562-44c4-8dc1-1dbe9ad5352d",
   "metadata": {
    "tags": []
   },
   "outputs": [],
   "source": [
    "def get_id_with_embedding_matching(test_embeddings) :\n",
    "    \n",
    "    datapoint = aiplatform_v1.IndexDatapoint(\n",
    "      feature_vector=test_embeddings\n",
    "    )\n",
    "    query = aiplatform_v1.FindNeighborsRequest.Query(\n",
    "      datapoint=datapoint,\n",
    "      # The number of nearest neighbors to be retrieved\n",
    "      neighbor_count=neighbor_count\n",
    "    )\n",
    "    request = aiplatform_v1.FindNeighborsRequest(\n",
    "      index_endpoint=INDEX_ENDPOINT,\n",
    "      deployed_index_id=DEPLOYED_INDEX_ID,\n",
    "      # Request can have multiple queries\n",
    "      queries=[query],\n",
    "      return_full_datapoint=False,\n",
    "    )\n",
    "\n",
    "    # Execute the request\n",
    "    response = vector_search_client.find_neighbors(request)\n",
    "    \n",
    "    df_new = pd.DataFrame()\n",
    "\n",
    "    for i in range(0,neighbor_count):\n",
    "        x=response.nearest_neighbors[0]\n",
    "\n",
    "        df_match = df.loc[df['id'] == int(x.neighbors[i].datapoint.datapoint_id) ]\n",
    "\n",
    "        # Append the matching rows to the new DataFrame\n",
    "        df_new = pd.concat([df_new, df_match])\n",
    "    \n",
    "    i,j,k = df_new.index[0:3]\n",
    "    print(i,j,k)\n",
    "    \n",
    "    pagewise_texts_v1 = df_new.loc[i, 'pagewise_texts']\n",
    "    pagewise_texts_v2 = df_new.loc[j, 'pagewise_texts']\n",
    "    pagewise_texts_v3 = df_new.loc[k, 'pagewise_texts']\n",
    "    \n",
    "    splitted_texts_v1 = df_new.loc[i, 'splitted_texts']\n",
    "    splitted_texts_v2 = df_new.loc[j, 'pagewise_texts']\n",
    "    splitted_texts_v3 = df_new.loc[k, 'pagewise_texts']\n",
    "    \n",
    "    splitted_texts_chunks_v1 = df_new.loc[i, 'splitted_texts_chunks']\n",
    "    splitted_texts_chunks_v2 = df_new.loc[j, 'splitted_texts_chunks']\n",
    "    splitted_texts_chunks_v3 = df_new.loc[k, 'splitted_texts_chunks']\n",
    "    \n",
    "    page_id_v1 = df_new.loc[i, 'page_id'] \n",
    "    page_id_v2 = df_new.loc[j, 'page_id'] \n",
    "    page_id_v3 = df_new.loc[k, 'page_id'] \n",
    "    \n",
    "    return(pagewise_texts_v1,pagewise_texts_v2,pagewise_texts_v3,\n",
    "           splitted_texts_v1,splitted_texts_v2,splitted_texts_v3,\n",
    "           splitted_texts_chunks_v1,splitted_texts_chunks_v2,splitted_texts_chunks_v3,\n",
    "        page_id_v1,page_id_v2,page_id_v3,i,j,k)"
   ]
  },
  {
   "cell_type": "code",
   "execution_count": null,
   "id": "43dff9e2-1072-4deb-852e-50f3f857a6eb",
   "metadata": {
    "tags": []
   },
   "outputs": [],
   "source": [
    "import pandas as pd\n",
    "filename = f\"{FOLDER_NAME}/harry_potte_qa.csv\"\n",
    "df_qa = pd.read_csv(filename, sep =\"|\")\n",
    "\n",
    "df_qa.head()"
   ]
  },
  {
   "cell_type": "code",
   "execution_count": null,
   "id": "e7a45e77-0a55-4022-9f7a-1b13fb766ed7",
   "metadata": {
    "tags": []
   },
   "outputs": [],
   "source": [
    "df_qa.columns"
   ]
  },
  {
   "cell_type": "code",
   "execution_count": null,
   "id": "8b4a83c7-f800-45aa-b5aa-ce29fbe66400",
   "metadata": {
    "scrolled": true,
    "tags": []
   },
   "outputs": [],
   "source": [
    "import csv\n",
    "import csv\n",
    "\n",
    "with open('harry_potte_qa.csv', 'r') as input_file, open('harry_potte_qa_output.csv', 'w', newline='') as output_file:\n",
    "\n",
    "  # Create CSV reader and writer objects\n",
    "  reader = csv.reader(input_file, delimiter='|')\n",
    "  writer = csv.writer(output_file, delimiter='|')\n",
    "\n",
    "  # Read and write the header row\n",
    "  header = next(reader) + ['i','j','k','pagewise_texts_v1','pagewise_texts_v2','pagewise_texts_v3','splitted_texts_v1','splitted_texts_v2','splitted_texts_v3','splitted_texts_chunks_v1','splitted_texts_chunks_v2','splitted_texts_chunks_v3','page_id_v1','page_id_v2','page_id_v3']\n",
    "  writer.writerow(header)\n",
    "\n",
    "  # Loop through the remaining rows\n",
    "  for i, row in enumerate(reader):\n",
    "    question = row[0].split('|')[0]  # Use 'i' to access the correct element in the row\n",
    "    question_emb = embeddings.embed_query( question )\n",
    "    pagewise_texts_v1,pagewise_texts_v2,pagewise_texts_v3,splitted_texts_v1,splitted_texts_v2,splitted_texts_v3,splitted_texts_chunks_v1,splitted_texts_chunks_v2,splitted_texts_chunks_v3,page_id_v1,page_id_v2,page_id_v3,i,j,k = get_id_with_embedding_matching(question_emb) \n",
    "    \n",
    "    # print( i , question)\n",
    "    row_out = row + [i,j,k,pagewise_texts_v1,pagewise_texts_v2,pagewise_texts_v3,splitted_texts_v1,splitted_texts_v2,splitted_texts_v3,splitted_texts_chunks_v1,splitted_texts_chunks_v2,splitted_texts_chunks_v3,page_id_v1,page_id_v2,page_id_v3]\n",
    "    \n",
    "    # Write the row to the output file\n",
    "    writer.writerow(row_out)\n",
    "\n",
    "# Usage example:\n",
    "! head -n 2 harry_potte_qa_output.csv"
   ]
  },
  {
   "cell_type": "code",
   "execution_count": null,
   "id": "a638e42d-4704-4c7d-8124-7889eac6b68b",
   "metadata": {
    "tags": []
   },
   "outputs": [],
   "source": [
    "import pandas as pd\n",
    "filename = f\"{FOLDER_NAME}/harry_potte_qa_output.csv\"\n",
    "df_qa = pd.read_csv(filename, sep =\"|\")\n",
    "\n",
    "df_qa.head()"
   ]
  },
  {
   "cell_type": "code",
   "execution_count": null,
   "id": "34e56255-8f27-4c2d-aff3-90c8e6ecfb01",
   "metadata": {
    "scrolled": true,
    "tags": []
   },
   "outputs": [],
   "source": [
    "!pip install --upgrade google-cloud-aiplatform"
   ]
  },
  {
   "cell_type": "code",
   "execution_count": null,
   "id": "ba7ddb8c-43b0-4ac5-b935-8576d537cf7b",
   "metadata": {
    "scrolled": true,
    "tags": []
   },
   "outputs": [],
   "source": [
    "!pip install --upgrade google-cloud-aiplatform\n",
    "GCP_PROJECT=PROJECT_ID\n",
    "LOCATION = REGION = 'asia-southeast1'"
   ]
  },
  {
   "cell_type": "markdown",
   "id": "b923bc10-ff7f-48c1-b144-23c25928c438",
   "metadata": {},
   "source": [
    "### Vertex AI setup"
   ]
  },
  {
   "cell_type": "code",
   "execution_count": null,
   "id": "a5537c3c-82eb-49d8-823f-c7bea7382221",
   "metadata": {
    "tags": []
   },
   "outputs": [],
   "source": [
    "import os\n",
    "\n",
    "# import streamlit as st\n",
    "import vertexai\n",
    "from vertexai.preview.language_models import TextGenerationModel\n",
    "\n",
    "vertexai.init(project=PROJECT_ID, location=LOCATION)\n",
    "\n",
    "\n",
    "# @st.cache_resource\n",
    "def get_model():\n",
    "    generation_model = TextGenerationModel.from_pretrained(\"text-bison@002\")\n",
    "    return generation_model\n",
    "\n",
    "\n",
    "def get_text_generation(prompt=\"\", **parameters):\n",
    "    generation_model = get_model()\n",
    "    response = generation_model.predict(prompt=prompt, **parameters)\n",
    "\n",
    "    return response.text"
   ]
  },
  {
   "cell_type": "markdown",
   "id": "b06a05e6-64b2-4f2d-bcd0-dd60a56cd2ec",
   "metadata": {},
   "source": [
    "### Defining Gemini Functions"
   ]
  },
  {
   "cell_type": "code",
   "execution_count": null,
   "id": "fd6fdf26-46b3-459d-b831-27d72a865583",
   "metadata": {
    "tags": []
   },
   "outputs": [],
   "source": [
    "import vertexai\n",
    "from vertexai.preview.generative_models import GenerativeModel, Part\n",
    "\n",
    "def generate(input_prompt):\n",
    "    model = GenerativeModel(\"gemini-ultra\")\n",
    "    responses = model.generate_content(\n",
    "        input_prompt ,\n",
    "    generation_config={\n",
    "        \"max_output_tokens\": 2048,\n",
    "        \"temperature\": 0.2,\n",
    "        \"top_p\": 1,\n",
    "        \"top_k\": 32\n",
    "    },\n",
    "        safety_settings=[],\n",
    "        stream=True,\n",
    "    )\n",
    "    \n",
    "    all_response  = []\n",
    "    \n",
    "    for response in responses:\n",
    "        # print(response.text, end=\"\")\n",
    "        all_response.append(response.text)\n",
    "    \n",
    "    # print (all_response)\n",
    "    \n",
    "    return(\" \".join(all_response))\n",
    "    \n",
    "\n",
    "def generate_pro(input_prompt):\n",
    "    model = GenerativeModel(\"gemini-pro\")\n",
    "    responses = model.generate_content(\n",
    "    input_prompt,\n",
    "    generation_config={\n",
    "        \"max_output_tokens\": 2048,\n",
    "        \"temperature\": 0.2,\n",
    "        \"top_p\": 1\n",
    "    },stream=True,)\n",
    "    \n",
    "    all_response  = []\n",
    "    \n",
    "    for response in responses:\n",
    "        all_response.append(response.text)\n",
    "    \n",
    "    # print (all_response)\n",
    "    \n",
    "    return(\" \".join(all_response))\n"
   ]
  },
  {
   "cell_type": "code",
   "execution_count": null,
   "id": "f9728825-9157-438b-9641-c298d7f7adb4",
   "metadata": {
    "tags": []
   },
   "outputs": [],
   "source": [
    "import vertexai\n",
    "from vertexai.language_models import TextGenerationModel\n",
    "\n",
    "vertexai.init(project=PROJECT_ID, location=LOCATION)\n",
    "parameters = {\n",
    "    \"candidate_count\": 1,\n",
    "    \"max_output_tokens\": 1024,\n",
    "    \"temperature\": 1,\n",
    "    \"top_k\": 40\n",
    "}\n",
    "\n",
    "def generate_palm_unicorn_v1(input_prompt):\n",
    "    \n",
    "    model = TextGenerationModel.from_pretrained(\"text-unicorn@001\")\n",
    "\n",
    "    response = model.predict(\n",
    "        input_prompt,\n",
    "        **parameters\n",
    "    )\n",
    "    print(f\"Response from Model: {response.text}\")\n",
    "    \n",
    "    return(response.text)\n",
    "\n",
    "def generate_palm_bison32k(input_prompt):\n",
    "    \n",
    "    model = TextGenerationModel.from_pretrained(\"text-bison-32k\")\n",
    "\n",
    "    response = model.predict(\n",
    "        input_prompt,\n",
    "        **parameters\n",
    "    )\n",
    "    print(f\"Response from Model: {response.text}\")\n",
    "    \n",
    "    return(response.text)\n"
   ]
  },
  {
   "cell_type": "markdown",
   "id": "ee960ef4-ebcb-4068-a997-0898d508faf6",
   "metadata": {},
   "source": [
    "### Read the Q&A file"
   ]
  },
  {
   "cell_type": "markdown",
   "id": "5fdc5924-f69e-4fa5-96b1-adf3b43721ed",
   "metadata": {},
   "source": [
    "#### This uses the file from Matching Engine which has questions and retrieved document results"
   ]
  },
  {
   "cell_type": "code",
   "execution_count": null,
   "id": "dee6bf9f-c44b-4414-946e-b20f8d214c3b",
   "metadata": {
    "scrolled": true,
    "tags": []
   },
   "outputs": [],
   "source": [
    "import pandas as pd\n",
    "filename = f\"{FOLDER_NAME}/harry_potte_qa_output.csv\"\n",
    "df_qa = pd.read_csv(filename, sep =\"|\")\n",
    "\n",
    "System_Prompts = \"\"\" You are an expert in reading harry potter books, but only provide evidences from the information provided and do not use any other information\n",
    "so here are some search results : \n",
    "\"\"\"\n",
    "\n",
    "Question_Prompts = \"\"\" -- Based on information above help to answer following user question\n",
    "\"\"\"\n",
    "\n",
    "df_qa['combine_prompt_RAG1'] = System_Prompts + ' ' +df_qa['pagewise_texts_v1'] + ' Please answers the Question : '+ df_qa['Question'] \n",
    "df_qa['combine_prompt_RAG2'] = System_Prompts + ' ' +df_qa['pagewise_texts_v2'] + ' Please answers the Question : '+ df_qa['Question'] \n",
    "df_qa['combine_prompt_RAG3'] = System_Prompts + ' ' +df_qa['pagewise_texts_v3'] + ' Please answers the Question : '+ df_qa['Question'] \n"
   ]
  },
  {
   "cell_type": "code",
   "execution_count": null,
   "id": "c4d626e1-ffe1-4275-9cd6-0c6f38eb886c",
   "metadata": {
    "tags": []
   },
   "outputs": [],
   "source": [
    "import re"
   ]
  },
  {
   "cell_type": "code",
   "execution_count": null,
   "id": "6dfc0578-fddd-4378-9da5-bdb0616f81de",
   "metadata": {
    "scrolled": true,
    "tags": []
   },
   "outputs": [],
   "source": [
    "for i in range(0, len(df_qa)):\n",
    "\n",
    "\n",
    "    clean_text1 = re.sub(r'[^\\w\\s;]', '', df_qa.loc[i,'combine_prompt_RAG1'])\n",
    "    clean_text2 = re.sub(r'[^\\w\\s;]', '', df_qa.loc[i,'combine_prompt_RAG2'])\n",
    "    clean_text3 = re.sub(r'[^\\w\\s;]', '', df_qa.loc[i,'combine_prompt_RAG3'])\n",
    "\n",
    "    if i<=1000:\n",
    "        # df['Gemini_ultra_model_output'][i] = generate(df['combine_prompt'][i])\n",
    "        print(\"iteration #\", i, \"test\")\n",
    "        if i==32 : \n",
    "            print(\"iteration #\", i, \"test\", clean_text1, clean_text2, clean_text3)\n",
    "    \n",
    "    try:\n",
    "        df_qa.loc[i, \"Gemini_pro_model_output_v1\"] = generate_pro(clean_text1)\n",
    "        df_qa.loc[i, \"Gemini_pro_model_output_v2\"] = generate_pro(clean_text2)\n",
    "        df_qa.loc[i, \"Gemini_pro_model_output_v3\"] = generate_pro(clean_text3)\n",
    "    except :\n",
    "        print(\"Prompt error at gemini \", i)\n",
    "        df_qa.loc[i, \"Gemini_pro_model_output_v1\"] = \"Prompt failed \"\n",
    "        df_qa.loc[i, \"Gemini_pro_model_output_v2\"] = \"Prompt failed \"\n",
    "        df_qa.loc[i, \"Gemini_pro_model_output_v3\"] = \"Prompt failed \"\n",
    "\n",
    "    try:\n",
    "        df_qa.loc[i, \"palm_bison32k_output_v1\"] = generate_palm_bison32k(df_qa.loc[i,'combine_prompt_RAG1'])\n",
    "        df_qa.loc[i, \"palm_bison32k_output_v2\"] = generate_palm_bison32k(df_qa.loc[i,'combine_prompt_RAG2'])\n",
    "        df_qa.loc[i, \"palm_bison32k_output_v3\"] = generate_palm_bison32k(df_qa.loc[i,'combine_prompt_RAG3'])\n",
    "    except ZeroDivisionError:\n",
    "        print(\"Prompt error at palm \", i)\n",
    "        df_qa.loc[i, \"palm_bison32k_output_v1\"] = \"Prompt failed \"\n",
    "        df_qa.loc[i, \"palm_bison32k_output_v2\"] = \"Prompt failed \"\n",
    "        df_qa.loc[i, \"palm_bison32k_output_v3\"] = \"Prompt failed \"\n"
   ]
  },
  {
   "cell_type": "code",
   "execution_count": null,
   "id": "a245d4dc-1342-4393-b9be-511f7ee971c1",
   "metadata": {
    "tags": []
   },
   "outputs": [],
   "source": [
    "df_qa.columns"
   ]
  },
  {
   "cell_type": "code",
   "execution_count": null,
   "id": "a7c44c34-ed52-443d-bdf0-d4d19662c64c",
   "metadata": {
    "tags": []
   },
   "outputs": [],
   "source": [
    "\n",
    "# Delete the 'col2' column\n",
    "df_qa = df_qa.drop('combine_prompt_RAG1', axis=1)\n",
    "df_qa = df_qa.drop('combine_prompt_RAG2', axis=1)\n",
    "df_qa = df_qa.drop('combine_prompt_RAG3', axis=1)\n",
    "\n",
    "output1 = f\"{FOLDER_NAME}/results/harry_potte_qa_model_out.csv\"\n",
    "\n",
    "df_qa.to_csv(output1)\n"
   ]
  },
  {
   "cell_type": "code",
   "execution_count": null,
   "id": "9cf83e7c-ec48-4b58-8d8c-464bf902afb7",
   "metadata": {
    "tags": []
   },
   "outputs": [],
   "source": [
    "df_qa.head(1)"
   ]
  },
  {
   "cell_type": "markdown",
   "id": "34e861c6-76a3-4cc3-bfb0-767876c9feac",
   "metadata": {},
   "source": [
    "#### As we can see in the output above the poor search setup gave a bad response "
   ]
  }
 ],
 "metadata": {
  "environment": {
   "kernel": "conda-root-py",
   "name": "workbench-notebooks.m113",
   "type": "gcloud",
   "uri": "gcr.io/deeplearning-platform-release/workbench-notebooks:m113"
  },
  "kernelspec": {
   "display_name": "Python 3 (ipykernel) (Local)",
   "language": "python",
   "name": "conda-root-py"
  },
  "language_info": {
   "codemirror_mode": {
    "name": "ipython",
    "version": 3
   },
   "file_extension": ".py",
   "mimetype": "text/x-python",
   "name": "python",
   "nbconvert_exporter": "python",
   "pygments_lexer": "ipython3",
   "version": "3.10.13"
  }
 },
 "nbformat": 4,
 "nbformat_minor": 5
}
